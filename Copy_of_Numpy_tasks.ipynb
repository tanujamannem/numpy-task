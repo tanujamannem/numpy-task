{
  "cells": [
    {
      "cell_type": "markdown",
      "metadata": {
        "id": "C8tthpGXV-Jo"
      },
      "source": [
        "# Numpy\n",
        "\n"
      ]
    },
    {
      "cell_type": "markdown",
      "metadata": {
        "id": "xBTHdlcZV-Jr"
      },
      "source": [
        "#### 1. Import the numpy package under the name `np` (★☆☆) \n",
        "(**hint**: import … as …)"
      ]
    },
    {
      "cell_type": "code",
      "execution_count": null,
      "metadata": {
        "collapsed": true,
        "id": "OxMYxEcGV-Js"
      },
      "outputs": [],
      "source": [
        "import numpy as np"
      ]
    },
    {
      "cell_type": "markdown",
      "metadata": {
        "id": "6NqyqVacV-Jt"
      },
      "source": [
        "#### 2. Print the numpy version and the configuration (★☆☆) \n",
        "(**hint**: np.\\_\\_version\\_\\_, np.show\\_config)"
      ]
    },
    {
      "cell_type": "code",
      "execution_count": null,
      "metadata": {
        "id": "LCjr_GuVV-Ju",
        "outputId": "86507428-d65b-417d-cece-bf5bda6ef0a8",
        "colab": {
          "base_uri": "https://localhost:8080/"
        }
      },
      "outputs": [
        {
          "output_type": "stream",
          "name": "stdout",
          "text": [
            "1.21.6\n",
            "blas_mkl_info:\n",
            "  NOT AVAILABLE\n",
            "blis_info:\n",
            "  NOT AVAILABLE\n",
            "openblas_info:\n",
            "    libraries = ['openblas', 'openblas']\n",
            "    library_dirs = ['/usr/local/lib']\n",
            "    language = c\n",
            "    define_macros = [('HAVE_CBLAS', None)]\n",
            "    runtime_library_dirs = ['/usr/local/lib']\n",
            "blas_opt_info:\n",
            "    libraries = ['openblas', 'openblas']\n",
            "    library_dirs = ['/usr/local/lib']\n",
            "    language = c\n",
            "    define_macros = [('HAVE_CBLAS', None)]\n",
            "    runtime_library_dirs = ['/usr/local/lib']\n",
            "lapack_mkl_info:\n",
            "  NOT AVAILABLE\n",
            "openblas_lapack_info:\n",
            "    libraries = ['openblas', 'openblas']\n",
            "    library_dirs = ['/usr/local/lib']\n",
            "    language = c\n",
            "    define_macros = [('HAVE_CBLAS', None)]\n",
            "    runtime_library_dirs = ['/usr/local/lib']\n",
            "lapack_opt_info:\n",
            "    libraries = ['openblas', 'openblas']\n",
            "    library_dirs = ['/usr/local/lib']\n",
            "    language = c\n",
            "    define_macros = [('HAVE_CBLAS', None)]\n",
            "    runtime_library_dirs = ['/usr/local/lib']\n",
            "Supported SIMD extensions in this NumPy install:\n",
            "    baseline = SSE,SSE2,SSE3\n",
            "    found = SSSE3,SSE41,POPCNT,SSE42,AVX,F16C,FMA3,AVX2\n",
            "    not found = AVX512F,AVX512CD,AVX512_KNL,AVX512_KNM,AVX512_SKX,AVX512_CLX,AVX512_CNL,AVX512_ICL\n",
            "None\n"
          ]
        }
      ],
      "source": [
        "import numpy as np\n",
        "print(np.__version__)\n",
        "print(np.show_config())"
      ]
    },
    {
      "cell_type": "markdown",
      "metadata": {
        "id": "KYP1XpAaV-Ju"
      },
      "source": [
        "#### 3. Create a null vector of size 10 (★☆☆) \n",
        "(**hint**: np.zeros)"
      ]
    },
    {
      "cell_type": "code",
      "execution_count": null,
      "metadata": {
        "id": "dHyeNsOLV-Jv",
        "colab": {
          "base_uri": "https://localhost:8080/"
        },
        "outputId": "9e175f81-2efd-445f-dc77-b45c1be619f8"
      },
      "outputs": [
        {
          "output_type": "stream",
          "name": "stdout",
          "text": [
            "[0. 0. 0. 0. 0. 0. 0. 0. 0. 0.]\n"
          ]
        }
      ],
      "source": [
        "import numpy as np\n",
        "x = np.zeros(10)\n",
        "print(x)"
      ]
    },
    {
      "cell_type": "markdown",
      "metadata": {
        "id": "VBGCA7zfV-Jw"
      },
      "source": [
        "#### 4.  How to find the memory size of any array (★☆☆) \n",
        "(**hint**: size, itemsize)"
      ]
    },
    {
      "cell_type": "code",
      "execution_count": null,
      "metadata": {
        "id": "PCi9szR6V-Jw",
        "colab": {
          "base_uri": "https://localhost:8080/"
        },
        "outputId": "b7b8c0ef-f931-4ead-f838-5c38a72a9cd1"
      },
      "outputs": [
        {
          "output_type": "stream",
          "name": "stdout",
          "text": [
            "128 bytes\n"
          ]
        }
      ],
      "source": [
        "import numpy as np\n",
        "n = np.zeros((4,4))\n",
        "print(\"%d bytes\" % (n.size * n.itemsize))\n"
      ]
    },
    {
      "cell_type": "markdown",
      "metadata": {
        "id": "MB-8XuMmV-Jx"
      },
      "source": [
        "#### 5.  How to get the documentation of the numpy add function from the command line? (★☆☆) \n",
        "(**hint**: np.info)"
      ]
    },
    {
      "cell_type": "code",
      "execution_count": null,
      "metadata": {
        "collapsed": true,
        "id": "CG4S8289V-Jy",
        "colab": {
          "base_uri": "https://localhost:8080/"
        },
        "outputId": "d9cff46f-8c9d-4dbd-8ae1-3f617510ba94"
      },
      "outputs": [
        {
          "output_type": "stream",
          "name": "stdout",
          "text": [
            "add(x1, x2, /, out=None, *, where=True, casting='same_kind', order='K', dtype=None, subok=True[, signature, extobj])\n",
            "\n",
            "Add arguments element-wise.\n",
            "\n",
            "Parameters\n",
            "----------\n",
            "x1, x2 : array_like\n",
            "    The arrays to be added.\n",
            "    If ``x1.shape != x2.shape``, they must be broadcastable to a common\n",
            "    shape (which becomes the shape of the output).\n",
            "out : ndarray, None, or tuple of ndarray and None, optional\n",
            "    A location into which the result is stored. If provided, it must have\n",
            "    a shape that the inputs broadcast to. If not provided or None,\n",
            "    a freshly-allocated array is returned. A tuple (possible only as a\n",
            "    keyword argument) must have length equal to the number of outputs.\n",
            "where : array_like, optional\n",
            "    This condition is broadcast over the input. At locations where the\n",
            "    condition is True, the `out` array will be set to the ufunc result.\n",
            "    Elsewhere, the `out` array will retain its original value.\n",
            "    Note that if an uninitialized `out` array is created via the default\n",
            "    ``out=None``, locations within it where the condition is False will\n",
            "    remain uninitialized.\n",
            "**kwargs\n",
            "    For other keyword-only arguments, see the\n",
            "    :ref:`ufunc docs <ufuncs.kwargs>`.\n",
            "\n",
            "Returns\n",
            "-------\n",
            "add : ndarray or scalar\n",
            "    The sum of `x1` and `x2`, element-wise.\n",
            "    This is a scalar if both `x1` and `x2` are scalars.\n",
            "\n",
            "Notes\n",
            "-----\n",
            "Equivalent to `x1` + `x2` in terms of array broadcasting.\n",
            "\n",
            "Examples\n",
            "--------\n",
            ">>> np.add(1.0, 4.0)\n",
            "5.0\n",
            ">>> x1 = np.arange(9.0).reshape((3, 3))\n",
            ">>> x2 = np.arange(3.0)\n",
            ">>> np.add(x1, x2)\n",
            "array([[  0.,   2.,   4.],\n",
            "       [  3.,   5.,   7.],\n",
            "       [  6.,   8.,  10.]])\n",
            "\n",
            "The ``+`` operator can be used as a shorthand for ``np.add`` on ndarrays.\n",
            "\n",
            ">>> x1 = np.arange(9.0).reshape((3, 3))\n",
            ">>> x2 = np.arange(3.0)\n",
            ">>> x1 + x2\n",
            "array([[ 0.,  2.,  4.],\n",
            "       [ 3.,  5.,  7.],\n",
            "       [ 6.,  8., 10.]])\n",
            "None\n"
          ]
        }
      ],
      "source": [
        "import numpy as np\n",
        "print(np.info(np.add))"
      ]
    },
    {
      "cell_type": "markdown",
      "metadata": {
        "id": "azsxkFHdV-Jy"
      },
      "source": [
        "#### 6.  Create a null vector of size 10 but the fifth value which is 1 (★☆☆) \n",
        "(**hint**: array\\[4\\])"
      ]
    },
    {
      "cell_type": "code",
      "execution_count": null,
      "metadata": {
        "id": "EmKQIgOwV-Jz",
        "colab": {
          "base_uri": "https://localhost:8080/"
        },
        "outputId": "f8a75997-b0f9-4b04-d42d-c4f6d49c8565"
      },
      "outputs": [
        {
          "output_type": "stream",
          "name": "stdout",
          "text": [
            "[0. 0. 0. 0. 0. 0. 0. 0. 0. 0.]\n",
            "Update fifth value to 1\n",
            "[0. 0. 0. 0. 0. 1. 0. 0. 0. 0.]\n"
          ]
        }
      ],
      "source": [
        "import numpy as np\n",
        "x = np.zeros(10)\n",
        "print(x)\n",
        "print(\"Update fifth value to 1\")\n",
        "x[5] = 1\n",
        "print(x)"
      ]
    },
    {
      "cell_type": "markdown",
      "metadata": {
        "id": "YHv0TNXhV-Jz"
      },
      "source": [
        "#### 7.  Create a vector with values ranging from 10 to 49 (★☆☆) \n",
        "(**hint**: np.arange)"
      ]
    },
    {
      "cell_type": "code",
      "execution_count": null,
      "metadata": {
        "id": "lA7Hk7hSV-J0",
        "colab": {
          "base_uri": "https://localhost:8080/"
        },
        "outputId": "51b285c9-b0b4-4428-b5e3-3e059d50b389"
      },
      "outputs": [
        {
          "output_type": "stream",
          "name": "stdout",
          "text": [
            "Original vector:\n",
            "[10 11 12 13 14 15 16 17 18 19 20 21 22 23 24 25 26 27 28 29 30 31 32 33\n",
            " 34 35 36 37 38 39 40 41 42 43 44 45 46 47 48]\n"
          ]
        }
      ],
      "source": [
        "import numpy as np\n",
        "v = np.arange(10,49)\n",
        "print(\"Original vector:\")\n",
        "print(v)"
      ]
    },
    {
      "cell_type": "markdown",
      "metadata": {
        "id": "KorcvVVBV-J0"
      },
      "source": [
        "#### 8.  Reverse a vector (first element becomes last) (★☆☆) \n",
        "(**hint**: array\\[::-1\\])"
      ]
    },
    {
      "cell_type": "code",
      "execution_count": null,
      "metadata": {
        "id": "bIfux4Z1V-J0",
        "colab": {
          "base_uri": "https://localhost:8080/"
        },
        "outputId": "9b7650ab-4f86-484c-acce-a702d9f41341"
      },
      "outputs": [
        {
          "output_type": "stream",
          "name": "stdout",
          "text": [
            "Reverse array [5 4 6 3 2 1]\n"
          ]
        }
      ],
      "source": [
        "import numpy as np\n",
        "\n",
        "arr= np.array([1, 2, 3, 6, 4, 5])\n",
        "result = arr[::-1]\n",
        "\n",
        "print(\"Reverse array\",(result))"
      ]
    },
    {
      "cell_type": "markdown",
      "metadata": {
        "id": "_owxhFkbV-J1"
      },
      "source": [
        "#### 9.  Create a 3x3 matrix with values ranging from 0 to 8 (★☆☆) \n",
        "(**hint**: reshape)"
      ]
    },
    {
      "cell_type": "code",
      "execution_count": null,
      "metadata": {
        "id": "zypGd5I6V-J1",
        "colab": {
          "base_uri": "https://localhost:8080/"
        },
        "outputId": "de2dfe32-2bb0-487d-ab4c-ff0fb63870bb"
      },
      "outputs": [
        {
          "output_type": "stream",
          "name": "stdout",
          "text": [
            "[[0 1 2]\n",
            " [3 4 5]\n",
            " [6 7 8]]\n"
          ]
        }
      ],
      "source": [
        "import numpy as np\n",
        "x =  np.arange(0, 9).reshape(3,3)\n",
        "print(x)"
      ]
    },
    {
      "cell_type": "markdown",
      "metadata": {
        "id": "CWJyNbl3V-J1"
      },
      "source": [
        "#### 10. Find indices of non-zero elements from \\[1,2,0,0,4,0\\] (★☆☆) \n",
        "(**hint**: np.nonzero)"
      ]
    },
    {
      "cell_type": "code",
      "execution_count": null,
      "metadata": {
        "id": "EoGcB8WFV-J2",
        "colab": {
          "base_uri": "https://localhost:8080/"
        },
        "outputId": "8aadcc3a-9602-4a15-c395-46d244dee8b9"
      },
      "outputs": [
        {
          "output_type": "stream",
          "name": "stdout",
          "text": [
            "Input  array : \n",
            " [[1 2 0 0 4 0]]\n",
            "Indices of non zero elements :  [1 2 4]\n"
          ]
        }
      ],
      "source": [
        "import numpy as np\n",
        "arr = np.array([[1,2,0,0,4,0]])\n",
        "  \n",
        "print (\"Input  array : \\n\", arr)\n",
        "    \n",
        "out = arr[np.nonzero(arr)]\n",
        "print(\"Indices of non zero elements : \", out) "
      ]
    },
    {
      "cell_type": "markdown",
      "metadata": {
        "id": "i9LhMZW2V-J2"
      },
      "source": [
        "#### 11. Create a 3x3 identity matrix (★☆☆) \n",
        "(**hint**: np.eye)"
      ]
    },
    {
      "cell_type": "code",
      "execution_count": null,
      "metadata": {
        "id": "tYkOe55dV-J2",
        "colab": {
          "base_uri": "https://localhost:8080/"
        },
        "outputId": "7c339d53-6165-428d-b753-1aa6e40bb076"
      },
      "outputs": [
        {
          "output_type": "stream",
          "name": "stdout",
          "text": [
            "3x3 matrix:\n",
            "[[1. 0. 0.]\n",
            " [0. 1. 0.]\n",
            " [0. 0. 1.]]\n"
          ]
        }
      ],
      "source": [
        "import numpy as np\n",
        "array_2D=np.identity(3)\n",
        "print('3x3 matrix:')\n",
        "print(array_2D)"
      ]
    },
    {
      "cell_type": "markdown",
      "metadata": {
        "id": "kZwbTkfnV-J3"
      },
      "source": [
        "#### 12. Create a 3x3x3 array with random values (★☆☆) \n",
        "(**hint**: np.random.random)"
      ]
    },
    {
      "cell_type": "code",
      "execution_count": null,
      "metadata": {
        "collapsed": true,
        "id": "mI2b0h0ZV-J3",
        "colab": {
          "base_uri": "https://localhost:8080/"
        },
        "outputId": "6f7aca22-3bbd-40c0-ad18-1674aa78def5"
      },
      "outputs": [
        {
          "output_type": "stream",
          "name": "stdout",
          "text": [
            "[[[0.96313724 0.3250939  0.01978371]\n",
            "  [0.50326215 0.77570649 0.78744066]\n",
            "  [0.31311435 0.87895989 0.70798706]]\n",
            "\n",
            " [[0.43527298 0.82488537 0.73292681]\n",
            "  [0.79583196 0.72697407 0.32841536]\n",
            "  [0.29235672 0.54485449 0.0224495 ]]\n",
            "\n",
            " [[0.44502022 0.94319282 0.21769796]\n",
            "  [0.1781718  0.5154296  0.39639672]\n",
            "  [0.56637222 0.81082842 0.29184457]]]\n"
          ]
        }
      ],
      "source": [
        "import numpy as np\n",
        "x = np.random.random((3,3,3))\n",
        "print(x)"
      ]
    },
    {
      "cell_type": "markdown",
      "metadata": {
        "id": "BHToDPOaV-J3"
      },
      "source": [
        "#### 13. Create a 10x10 array with random values and find the minimum and maximum values (★☆☆) \n",
        "(**hint**: min, max)"
      ]
    },
    {
      "cell_type": "code",
      "execution_count": null,
      "metadata": {
        "id": "r-PifjvaV-J4",
        "colab": {
          "base_uri": "https://localhost:8080/"
        },
        "outputId": "345d5ac7-d144-49f5-be5f-2c0d8f111dc9"
      },
      "outputs": [
        {
          "output_type": "stream",
          "name": "stdout",
          "text": [
            "Original Array:\n",
            "[[9.53562812e-01 4.15629065e-01 1.65213025e-01 9.24630809e-01\n",
            "  3.87825364e-01 1.51486501e-01 7.28718050e-01 6.59952259e-01\n",
            "  6.12418619e-02 6.31368520e-01]\n",
            " [3.03257810e-01 1.25655298e-01 3.56289800e-01 7.80224729e-01\n",
            "  5.40358348e-01 7.59384131e-01 4.97040649e-01 7.81213229e-01\n",
            "  1.78217281e-01 6.53619270e-02]\n",
            " [8.68865799e-02 9.49906379e-01 5.33485298e-01 8.92078531e-03\n",
            "  6.24825355e-01 5.59775642e-01 7.93959328e-02 3.56153281e-01\n",
            "  1.33820038e-01 7.04973880e-01]\n",
            " [2.78041951e-01 8.20836828e-01 4.62022070e-01 5.77288598e-01\n",
            "  1.18327990e-01 3.06921005e-01 9.81728245e-03 8.48886420e-01\n",
            "  3.34029816e-01 1.53937317e-01]\n",
            " [4.06539282e-01 1.26977338e-01 2.23201653e-01 3.65237913e-01\n",
            "  6.33342565e-01 2.85657395e-01 9.52838691e-01 2.61953706e-01\n",
            "  3.05774493e-01 3.76885548e-01]\n",
            " [2.75115272e-01 1.21440574e-01 2.64898250e-01 3.42541437e-01\n",
            "  4.90938023e-01 5.49609603e-01 3.53128765e-01 9.95050403e-01\n",
            "  8.79036135e-01 5.23327256e-01]\n",
            " [5.49817267e-01 4.32895678e-01 7.16296827e-01 6.56538459e-01\n",
            "  9.32039522e-01 8.97829764e-01 5.78462668e-01 5.08531272e-01\n",
            "  6.63744900e-01 4.25904777e-01]\n",
            " [2.07857096e-01 9.07816141e-01 2.30786321e-02 9.11254450e-01\n",
            "  3.53691848e-01 3.50807838e-01 8.95492878e-01 2.23794134e-04\n",
            "  3.68536334e-01 7.04636419e-01]\n",
            " [9.95503715e-01 8.00376452e-01 7.76744472e-01 5.98712856e-01\n",
            "  2.17787638e-01 5.02450069e-01 3.40839610e-01 3.22312163e-02\n",
            "  2.62509744e-01 3.84679267e-01]\n",
            " [7.36850204e-01 9.38532817e-01 5.55231469e-01 2.67794394e-01\n",
            "  2.37707430e-01 8.62495649e-01 7.74529754e-01 5.60736983e-02\n",
            "  6.04966195e-03 8.85119436e-01]]\n",
            "Minimum and Maximum Values:\n",
            "0.00022379413367745737 0.9955037150015952\n"
          ]
        }
      ],
      "source": [
        "import numpy as np\n",
        "x = np.random.random((10,10))\n",
        "print(\"Original Array:\")\n",
        "print(x) \n",
        "xmin, xmax = x.min(), x.max()\n",
        "print(\"Minimum and Maximum Values:\")\n",
        "print(xmin, xmax)"
      ]
    },
    {
      "cell_type": "markdown",
      "metadata": {
        "id": "FhUXSNiDV-J4"
      },
      "source": [
        "#### 14. Create a random vector of size 30 and find the mean value (★☆☆) \n",
        "(**hint**: mean)"
      ]
    },
    {
      "cell_type": "code",
      "execution_count": null,
      "metadata": {
        "id": "p-o-8Bx7V-J5",
        "colab": {
          "base_uri": "https://localhost:8080/"
        },
        "outputId": "d188cdd5-e28c-46d7-9487-49746521671d"
      },
      "outputs": [
        {
          "output_type": "stream",
          "name": "stdout",
          "text": [
            "Original array:\n",
            "[0.04575208 0.10988289 0.06141208 0.45588864 0.91702582 0.18213513\n",
            " 0.35954732 0.85824019 0.58609056 0.4893236  0.45680597 0.55379613\n",
            " 0.04690502 0.38392234 0.57625553 0.22102984 0.4270526  0.37254523\n",
            " 0.90652527 0.25725895 0.34276652 0.51116388 0.72547806 0.9679309\n",
            " 0.67883971 0.09272411 0.38057575 0.15997251 0.50537236 0.37904801]\n",
            "mean of arr :  0.4337089005060525\n"
          ]
        }
      ],
      "source": [
        "import numpy as np\n",
        "x = np.random.random(30)\n",
        "print(\"Original array:\")\n",
        "print(x)\n",
        "print(\"mean of arr : \", np.mean(x))"
      ]
    },
    {
      "cell_type": "markdown",
      "metadata": {
        "id": "Qau-_Q9nV-J5"
      },
      "source": [
        "#### 15. Create a 2d array with 1 on the border and 0 inside (★☆☆) \n",
        "(**hint**: array\\[1:-1, 1:-1\\])"
      ]
    },
    {
      "cell_type": "code",
      "execution_count": null,
      "metadata": {
        "id": "6uVShC5HV-J6",
        "colab": {
          "base_uri": "https://localhost:8080/"
        },
        "outputId": "cf331d1b-3842-47b3-ba46-2d1354ee72a3"
      },
      "outputs": [
        {
          "output_type": "stream",
          "name": "stdout",
          "text": [
            "Original array:\n",
            "[[1. 1. 1. 1. 1.]\n",
            " [1. 1. 1. 1. 1.]\n",
            " [1. 1. 1. 1. 1.]\n",
            " [1. 1. 1. 1. 1.]\n",
            " [1. 1. 1. 1. 1.]]\n",
            "1 on the border and 0 inside in the array\n",
            "[[1. 1. 1. 1. 1.]\n",
            " [1. 0. 0. 0. 1.]\n",
            " [1. 0. 0. 0. 1.]\n",
            " [1. 0. 0. 0. 1.]\n",
            " [1. 1. 1. 1. 1.]]\n"
          ]
        }
      ],
      "source": [
        "import numpy as np\n",
        "x = np.ones((5,5))\n",
        "print(\"Original array:\")\n",
        "print(x)\n",
        "print(\"1 on the border and 0 inside in the array\")\n",
        "x[1:-1,1:-1] = 0\n",
        "print(x)"
      ]
    },
    {
      "cell_type": "markdown",
      "metadata": {
        "id": "B6bqfqnbV-J6"
      },
      "source": [
        "#### 16. How to add a border (filled with 0's) around an existing array? (★☆☆) \n",
        "(**hint**: np.pad)"
      ]
    },
    {
      "cell_type": "code",
      "execution_count": null,
      "metadata": {
        "id": "8SOPp9JvV-J7",
        "colab": {
          "base_uri": "https://localhost:8080/"
        },
        "outputId": "a79ae4e7-8ae3-4690-c1fe-cbda88fccff5"
      },
      "outputs": [
        {
          "output_type": "stream",
          "name": "stdout",
          "text": [
            "Original array:\n",
            "[[1. 1. 1.]\n",
            " [1. 1. 1.]\n",
            " [1. 1. 1.]]\n",
            "0 on the border and 1 inside in the array\n",
            "[[0. 0. 0. 0. 0.]\n",
            " [0. 1. 1. 1. 0.]\n",
            " [0. 1. 1. 1. 0.]\n",
            " [0. 1. 1. 1. 0.]\n",
            " [0. 0. 0. 0. 0.]]\n"
          ]
        }
      ],
      "source": [
        "import numpy as np\n",
        "x = np.ones((3,3))\n",
        "print(\"Original array:\")\n",
        "print(x)\n",
        "print(\"0 on the border and 1 inside in the array\")\n",
        "x = np.pad(x, pad_width=1, mode='constant', constant_values=0)\n",
        "print(x)"
      ]
    },
    {
      "cell_type": "markdown",
      "metadata": {
        "id": "1oqBnqGsV-J7"
      },
      "source": [
        "#### 17. What is the result of the following expression? (★☆☆) \n",
        "(**hint**: NaN = not a number, inf = infinity)"
      ]
    },
    {
      "cell_type": "markdown",
      "metadata": {
        "id": "FRV_ypVbV-J7"
      },
      "source": [
        "```python\n",
        "0 * np.nan\n",
        "np.nan == np.nan\n",
        "np.inf > np.nan\n",
        "np.nan - np.nan\n",
        "0.3 == 3 * 0.1\n",
        "```"
      ]
    },
    {
      "cell_type": "code",
      "source": [
        "nan\n",
        "False\n",
        "False\n",
        "nan\n",
        "False"
      ],
      "metadata": {
        "id": "VHxQvcUZCKIg"
      },
      "execution_count": null,
      "outputs": []
    },
    {
      "cell_type": "markdown",
      "metadata": {
        "id": "8IkKMhxVV-J8"
      },
      "source": [
        "#### 18. Create a 5x5 matrix with values 1,2,3,4 just below the diagonal (★☆☆) \n",
        "(**hint**: np.diag)"
      ]
    },
    {
      "cell_type": "code",
      "execution_count": null,
      "metadata": {
        "id": "hHxYxDs6V-J9",
        "colab": {
          "base_uri": "https://localhost:8080/"
        },
        "outputId": "65b760fe-0564-454f-e9f9-a861615386bd"
      },
      "outputs": [
        {
          "output_type": "stream",
          "name": "stdout",
          "text": [
            "[[1 0 0 0]\n",
            " [0 2 0 0]\n",
            " [0 0 3 0]\n",
            " [0 0 0 4]]\n"
          ]
        }
      ],
      "source": [
        "import numpy as np\n",
        "x = np.diag([1, 2, 3, 4])\n",
        "print(x)"
      ]
    },
    {
      "cell_type": "markdown",
      "metadata": {
        "id": "vdbDnFRRV-J9"
      },
      "source": [
        "#### 19. Create a 8x8 matrix and fill it with a checkerboard pattern (★☆☆) \n",
        "(**hint**: array\\[::2\\])"
      ]
    },
    {
      "cell_type": "code",
      "execution_count": null,
      "metadata": {
        "id": "RTUNZHfhV-J-",
        "colab": {
          "base_uri": "https://localhost:8080/"
        },
        "outputId": "2f377bac-8501-4638-83ff-c7b73ee0dded"
      },
      "outputs": [
        {
          "output_type": "stream",
          "name": "stdout",
          "text": [
            "Checkerboard pattern:\n",
            "[[0 1 0 1 0 1 0 1]\n",
            " [1 0 1 0 1 0 1 0]\n",
            " [0 1 0 1 0 1 0 1]\n",
            " [1 0 1 0 1 0 1 0]\n",
            " [0 1 0 1 0 1 0 1]\n",
            " [1 0 1 0 1 0 1 0]\n",
            " [0 1 0 1 0 1 0 1]\n",
            " [1 0 1 0 1 0 1 0]]\n"
          ]
        }
      ],
      "source": [
        "import numpy as np\n",
        "x = np.ones((3,3))\n",
        "print(\"Checkerboard pattern:\")\n",
        "x = np.zeros((8,8),dtype=int)\n",
        "x[1::2,::2] = 1\n",
        "x[::2,1::2] = 1\n",
        "print(x)"
      ]
    },
    {
      "cell_type": "markdown",
      "metadata": {
        "id": "ClSrzwteV-J-"
      },
      "source": [
        "#### 20. Consider a (6,7,8) shape array, what is the index (x,y,z) of the 100th element? \n",
        "(**hint**: np.unravel_index)"
      ]
    },
    {
      "cell_type": "code",
      "execution_count": null,
      "metadata": {
        "id": "FCqOAAN_V-J_",
        "colab": {
          "base_uri": "https://localhost:8080/"
        },
        "outputId": "7cf971d8-5233-48bc-e6c7-b563468f6f94"
      },
      "outputs": [
        {
          "output_type": "stream",
          "name": "stdout",
          "text": [
            "(1, 5, 4)\n"
          ]
        }
      ],
      "source": [
        "print (np.unravel_index(100, (6,7,8)))"
      ]
    },
    {
      "cell_type": "markdown",
      "metadata": {
        "id": "Wb3UVW6LV-J_"
      },
      "source": [
        "#### 21. Create a checkerboard 8x8 matrix using the tile function (★☆☆) \n",
        "(**hint**: np.tile)"
      ]
    },
    {
      "cell_type": "code",
      "execution_count": null,
      "metadata": {
        "id": "FwN0ydgjV-KA",
        "colab": {
          "base_uri": "https://localhost:8080/"
        },
        "outputId": "d75c149c-782c-4075-febb-d2d4903ee92d"
      },
      "outputs": [
        {
          "output_type": "stream",
          "name": "stdout",
          "text": [
            "[[0 1 0 1 0 1 0 1]\n",
            " [1 0 1 0 1 0 1 0]\n",
            " [0 1 0 1 0 1 0 1]\n",
            " [1 0 1 0 1 0 1 0]\n",
            " [0 1 0 1 0 1 0 1]\n",
            " [1 0 1 0 1 0 1 0]\n",
            " [0 1 0 1 0 1 0 1]\n",
            " [1 0 1 0 1 0 1 0]]\n"
          ]
        }
      ],
      "source": [
        "import numpy as np\n",
        "array= np.array([[0,1], [1,0]])\n",
        "Z = np.tile(array,(4,4))\n",
        "print (Z)"
      ]
    },
    {
      "cell_type": "markdown",
      "metadata": {
        "id": "jtde6hPOV-KA"
      },
      "source": [
        "#### 22. Normalize a 5x5 random matrix (★☆☆) \n",
        "(**hint**: (x - min) / (max - min))"
      ]
    },
    {
      "cell_type": "code",
      "execution_count": null,
      "metadata": {
        "id": "DYryjRnsV-KA",
        "colab": {
          "base_uri": "https://localhost:8080/"
        },
        "outputId": "41e357d0-2e33-4a1b-d90e-d6bc28420e64"
      },
      "outputs": [
        {
          "output_type": "stream",
          "name": "stdout",
          "text": [
            "[[0.43903125 1.         0.32281994 0.33554051 0.8038485 ]\n",
            " [0.59066145 0.         0.16428146 0.66348619 0.94033806]\n",
            " [0.81869098 0.36428106 0.93061348 0.784293   0.55681985]\n",
            " [0.55598907 0.86110043 0.93385375 0.27984094 0.88784628]\n",
            " [0.64336299 0.11459848 0.44070459 0.77612623 0.99747722]]\n"
          ]
        }
      ],
      "source": [
        "Z = np.random.random((5,5))\n",
        "Zmax, Zmin = Z.max(), Z.min()\n",
        "Z= (Z-Zmin)/(Zmax-Zmin)\n",
        "print (Z)"
      ]
    },
    {
      "cell_type": "markdown",
      "metadata": {
        "id": "szIspOygV-KA"
      },
      "source": [
        "#### 23. Create a custom dtype that describes a color as four unsigned bytes (RGBA) (★☆☆) \n",
        "(**hint**: np.dtype)"
      ]
    },
    {
      "cell_type": "code",
      "source": [
        "color = np.dtype([(\"r\", np.ubyte, 1),\n",
        "                  (\"g\", np.ubyte, 1),\n",
        "                  (\"b\", np.ubyte, 1),\n",
        "                  (\"a\", np.ubyte, 1)])"
      ],
      "metadata": {
        "colab": {
          "base_uri": "https://localhost:8080/"
        },
        "id": "-pUYrULfgsDO",
        "outputId": "d00fdc0d-0d55-404c-db26-3f68bc681fc7"
      },
      "execution_count": null,
      "outputs": [
        {
          "output_type": "stream",
          "name": "stderr",
          "text": [
            "/usr/local/lib/python3.7/dist-packages/ipykernel_launcher.py:4: FutureWarning: Passing (type, 1) or '1type' as a synonym of type is deprecated; in a future version of numpy, it will be understood as (type, (1,)) / '(1,)type'.\n",
            "  after removing the cwd from sys.path.\n"
          ]
        }
      ]
    },
    {
      "cell_type": "markdown",
      "metadata": {
        "id": "AUF9n6PCV-KB"
      },
      "source": [
        "#### 24. Multiply a 5x3 matrix by a 3x2 matrix (real matrix product) (★☆☆) \n",
        "(**hint**: np.dot | @)"
      ]
    },
    {
      "cell_type": "code",
      "execution_count": null,
      "metadata": {
        "id": "Qd03PsKFV-KB",
        "colab": {
          "base_uri": "https://localhost:8080/"
        },
        "outputId": "8e9c09b7-7802-4021-d32a-8c4acc948c36"
      },
      "outputs": [
        {
          "output_type": "stream",
          "name": "stdout",
          "text": [
            "[[3. 3.]\n",
            " [3. 3.]\n",
            " [3. 3.]\n",
            " [3. 3.]\n",
            " [3. 3.]]\n"
          ]
        }
      ],
      "source": [
        "Z= np.dot(np.ones((5,3)), np.ones((3,2)))\n",
        "print (Z)"
      ]
    },
    {
      "cell_type": "markdown",
      "metadata": {
        "id": "5arkRg93V-KB"
      },
      "source": [
        "#### 25. Given a 1D array, negate all elements which are between 3 and 8, in place. (★☆☆) \n",
        "(**hint**: >, <=)"
      ]
    },
    {
      "cell_type": "code",
      "execution_count": null,
      "metadata": {
        "id": "eTWXKpFLV-KC",
        "colab": {
          "base_uri": "https://localhost:8080/"
        },
        "outputId": "bf7c43b3-7c0b-48ed-b3d2-1bd2d13e6ceb"
      },
      "outputs": [
        {
          "output_type": "stream",
          "name": "stdout",
          "text": [
            "[ 0  1  2  3 -4 -5 -6 -7  8  9 10]\n"
          ]
        }
      ],
      "source": [
        "import numpy as np\n",
        "Z = np.arange(11)\n",
        "Z[(3 < Z) & (Z < 8)] *= -1\n",
        "print(Z)"
      ]
    },
    {
      "cell_type": "markdown",
      "metadata": {
        "id": "PDKjWHJqV-KC"
      },
      "source": [
        "#### 26. What is the output of the following script? (★☆☆) \n",
        "(**hint**: np.sum)"
      ]
    },
    {
      "cell_type": "markdown",
      "metadata": {
        "id": "Ekdy_7kcV-KC"
      },
      "source": [
        "```python\n",
        "# Author: Jake VanderPlas\n",
        "\n",
        "print(sum(range(5),-1))\n",
        "from numpy import *\n",
        "print(sum(range(5),-1))\n",
        "```"
      ]
    },
    {
      "cell_type": "code",
      "source": [
        "print(sum(range(5),-1))\n",
        "from numpy import *\n",
        "print(sum(range(5),-1))"
      ],
      "metadata": {
        "id": "bZIRCKVKIXDA",
        "colab": {
          "base_uri": "https://localhost:8080/"
        },
        "outputId": "1abc8bbb-69fd-426d-f6cf-29a3298bf342"
      },
      "execution_count": null,
      "outputs": [
        {
          "output_type": "stream",
          "name": "stdout",
          "text": [
            "9\n",
            "10\n"
          ]
        }
      ]
    },
    {
      "cell_type": "markdown",
      "metadata": {
        "id": "MAfk4CulV-KD"
      },
      "source": [
        "#### 27. Consider an integer vector Z, which of these expressions are legal? (★☆☆)"
      ]
    },
    {
      "cell_type": "code",
      "source": [
        "Z**Z\n",
        "2 << Z >> 2\n",
        "Z <- Z\n",
        "1j*Z\n",
        "Z/1/1\n",
        "Z<Z>Z"
      ],
      "metadata": {
        "id": "jz4yiZYeKHHW"
      },
      "execution_count": null,
      "outputs": []
    },
    {
      "cell_type": "code",
      "source": [
        "z=np.arange(10)\n",
        "print(z**z)\n",
        "print(2 << z >> 2)\n",
        "print(z <- z)\n",
        "print(1j*z)\n",
        "print(z/1/1)\n",
        "print(z<z<z)"
      ],
      "metadata": {
        "id": "8axFKw38KjP4"
      },
      "execution_count": null,
      "outputs": []
    },
    {
      "cell_type": "markdown",
      "metadata": {
        "id": "3m8Tu2LnV-KD"
      },
      "source": [
        "#### 28. What are the result of the following expressions?"
      ]
    },
    {
      "cell_type": "markdown",
      "metadata": {
        "id": "RP5hs-w0V-KD"
      },
      "source": [
        "```python\n",
        "np.array(0) / np.array(0)\n",
        "np.array(0) // np.array(0)\n",
        "np.array([np.nan]).astype(int).astype(float)\n",
        "```"
      ]
    },
    {
      "cell_type": "code",
      "execution_count": null,
      "metadata": {
        "id": "-y_V8OmfV-KE",
        "colab": {
          "base_uri": "https://localhost:8080/"
        },
        "outputId": "533c3443-1552-4998-c2a2-4087c373c6b0"
      },
      "outputs": [
        {
          "output_type": "stream",
          "name": "stdout",
          "text": [
            "nan\n",
            "0\n",
            "[-9.22337204e+18]\n"
          ]
        },
        {
          "output_type": "stream",
          "name": "stderr",
          "text": [
            "/usr/local/lib/python3.7/dist-packages/ipykernel_launcher.py:1: RuntimeWarning: invalid value encountered in true_divide\n",
            "  \"\"\"Entry point for launching an IPython kernel.\n",
            "/usr/local/lib/python3.7/dist-packages/ipykernel_launcher.py:2: RuntimeWarning: divide by zero encountered in floor_divide\n",
            "  \n"
          ]
        }
      ],
      "source": [
        "print(np.array(0) / np.array(0))\n",
        "print(np.array(0) // np.array(0))\n",
        "print(np.array([np.nan]).astype(int).astype(float))"
      ]
    },
    {
      "cell_type": "markdown",
      "metadata": {
        "id": "1YdtffKYV-KE"
      },
      "source": [
        "#### 29. How to round away from zero a float array ? (★☆☆) \n",
        "(**hint**: np.uniform, np.copysign, np.ceil, np.abs)"
      ]
    },
    {
      "cell_type": "code",
      "execution_count": null,
      "metadata": {
        "id": "RfCoFU5SV-KE",
        "colab": {
          "base_uri": "https://localhost:8080/"
        },
        "outputId": "93b7d89e-518d-4a19-c776-c764f22d3f04"
      },
      "outputs": [
        {
          "output_type": "stream",
          "name": "stdout",
          "text": [
            "[  9.  -8.   9.  -3.  -6.   2.   9.  10. -10.   5.]\n"
          ]
        }
      ],
      "source": [
        "Z = np.random.uniform(-10,+10,10)\n",
        "print (np.copysign(np.ceil(np.abs(Z)), Z))"
      ]
    },
    {
      "cell_type": "markdown",
      "metadata": {
        "id": "9vp6Ho3xV-KE"
      },
      "source": [
        "#### 30. How to find common values between two arrays? (★☆☆) \n",
        "(**hint**: np.intersect1d)"
      ]
    },
    {
      "cell_type": "code",
      "execution_count": null,
      "metadata": {
        "id": "QVGnxZvHV-KF",
        "colab": {
          "base_uri": "https://localhost:8080/"
        },
        "outputId": "325c1688-bb01-4eeb-da48-c6b7fff07a05"
      },
      "outputs": [
        {
          "output_type": "stream",
          "name": "stdout",
          "text": [
            "[0 2 3 5 6 8]\n"
          ]
        }
      ],
      "source": [
        "Z1 = np.random.randint(0,10,10)\n",
        "Z2 = np.random.randint(0,10,10)\n",
        "print(np.intersect1d(Z1,Z2))"
      ]
    },
    {
      "cell_type": "markdown",
      "metadata": {
        "id": "WuVuABb4V-KF"
      },
      "source": [
        "#### 31. How to ignore all numpy warnings (not recommended)? (★☆☆) \n",
        "(**hint**: np.seterr, np.errstate)"
      ]
    },
    {
      "cell_type": "code",
      "execution_count": null,
      "metadata": {
        "id": "JsJUbLU0V-KF",
        "colab": {
          "base_uri": "https://localhost:8080/"
        },
        "outputId": "2f2545ab-e5bf-4804-a2e5-b6f2c5326961"
      },
      "outputs": [
        {
          "output_type": "stream",
          "name": "stdout",
          "text": [
            "(array([0, 1, 4]),)\n"
          ]
        }
      ],
      "source": [
        "# Suicide mode on\n",
        "defaults = np.seterr(all=\"ignore\")\n",
        "Z = np.ones(1) / 0\n",
        "# Back to sanity\n",
        "_ = np.seterr(**defaults)\n",
        "# Equivalently with a context manager\n",
        "nz = np.nonzero([1,2,0,0,4,0])\n",
        "print(nz)"
      ]
    },
    {
      "cell_type": "markdown",
      "metadata": {
        "id": "bEwjaoDtV-KF"
      },
      "source": [
        "#### 32. Is the following expressions true? (★☆☆) \n",
        "(**hint**: imaginary number)"
      ]
    },
    {
      "cell_type": "markdown",
      "metadata": {
        "id": "g0MhFD4HV-KF"
      },
      "source": [
        "```python\n",
        "np.sqrt(-1) == np.emath.sqrt(-1)\n",
        "```"
      ]
    },
    {
      "cell_type": "code",
      "execution_count": null,
      "metadata": {
        "id": "_VtiGiwjV-KG",
        "colab": {
          "base_uri": "https://localhost:8080/"
        },
        "outputId": "64d14517-6d96-4283-9b8c-65dd24d9fb0f"
      },
      "outputs": [
        {
          "output_type": "stream",
          "name": "stderr",
          "text": [
            "/usr/local/lib/python3.7/dist-packages/ipykernel_launcher.py:1: RuntimeWarning: invalid value encountered in sqrt\n",
            "  \"\"\"Entry point for launching an IPython kernel.\n"
          ]
        },
        {
          "output_type": "execute_result",
          "data": {
            "text/plain": [
              "False"
            ]
          },
          "metadata": {},
          "execution_count": 15
        }
      ],
      "source": [
        "np.sqrt(-1) == np.emath.sqrt(-1)"
      ]
    },
    {
      "cell_type": "markdown",
      "metadata": {
        "id": "eX4wrvwwV-KG"
      },
      "source": [
        "#### 33. How to get the dates of yesterday, today and tomorrow? (★☆☆) \n",
        "(**hint**: np.datetime64, np.timedelta64)"
      ]
    },
    {
      "cell_type": "code",
      "execution_count": null,
      "metadata": {
        "collapsed": true,
        "id": "mbXtEZf0V-KG"
      },
      "outputs": [],
      "source": [
        "yesterday = np.datetime64('today', 'D') - np.timedelta64(1, 'D')\n",
        "today     = np.datetime64('today', 'D')\n",
        "tomorrow  = np.datetime64('today', 'D') + np.timedelta64(1, 'D')"
      ]
    },
    {
      "cell_type": "markdown",
      "metadata": {
        "id": "OT6AUcdxV-KG"
      },
      "source": [
        "#### 34. How to get all the dates corresponding to the month of July 2016? (★★☆) \n",
        "(**hint**: np.arange(dtype=datetime64\\['D'\\]))"
      ]
    },
    {
      "cell_type": "code",
      "execution_count": null,
      "metadata": {
        "id": "7SU9gp-mV-KH",
        "colab": {
          "base_uri": "https://localhost:8080/"
        },
        "outputId": "c0a29752-8343-4a3e-cc20-32d47eec0ca4"
      },
      "outputs": [
        {
          "output_type": "stream",
          "name": "stdout",
          "text": [
            "['2016-07-01' '2016-07-02' '2016-07-03' '2016-07-04' '2016-07-05'\n",
            " '2016-07-06' '2016-07-07' '2016-07-08' '2016-07-09' '2016-07-10'\n",
            " '2016-07-11' '2016-07-12' '2016-07-13' '2016-07-14' '2016-07-15'\n",
            " '2016-07-16' '2016-07-17' '2016-07-18' '2016-07-19' '2016-07-20'\n",
            " '2016-07-21' '2016-07-22' '2016-07-23' '2016-07-24' '2016-07-25'\n",
            " '2016-07-26' '2016-07-27' '2016-07-28' '2016-07-29' '2016-07-30'\n",
            " '2016-07-31']\n"
          ]
        }
      ],
      "source": [
        "Z = np.arange('2016-07', '2016-08', dtype='datetime64[D]')\n",
        "print(Z)"
      ]
    },
    {
      "cell_type": "markdown",
      "metadata": {
        "id": "FKmtmy9YV-KH"
      },
      "source": [
        "#### 35. How to compute ((A+B)\\*(-A/2)) in place (without copy)? (★★☆) \n",
        "(**hint**: np.add(out=), np.negative(out=), np.multiply(out=), np.divide(out=))"
      ]
    },
    {
      "cell_type": "code",
      "execution_count": null,
      "metadata": {
        "id": "129XT1x-V-KH",
        "colab": {
          "base_uri": "https://localhost:8080/"
        },
        "outputId": "35e24585-f138-44aa-8066-e10b48d84b55"
      },
      "outputs": [
        {
          "output_type": "execute_result",
          "data": {
            "text/plain": [
              "array([-1.5, -1.5, -1.5])"
            ]
          },
          "metadata": {},
          "execution_count": 18
        }
      ],
      "source": [
        "A = np.ones(3)*1\n",
        "B = np.ones(3)*2\n",
        "C = np.ones(3)*3\n",
        "np.add(A,B,out=B)\n",
        "np.divide(A,2,out=A)\n",
        "np.negative(A,out=A)\n",
        "np.multiply(A,B,out=A)"
      ]
    },
    {
      "cell_type": "markdown",
      "metadata": {
        "id": "eiloOi0dV-KH"
      },
      "source": [
        "#### 36. Extract the integer part of a random array using 5 different methods (★★☆) \n",
        "(**hint**: %, np.floor, np.ceil, astype, np.trunc)"
      ]
    },
    {
      "cell_type": "code",
      "execution_count": null,
      "metadata": {
        "id": "O2hJ8-oDV-KH",
        "colab": {
          "base_uri": "https://localhost:8080/"
        },
        "outputId": "e68f7c5b-cb23-4190-8ff9-61a2bf81b53e"
      },
      "outputs": [
        {
          "output_type": "stream",
          "name": "stdout",
          "text": [
            "[4. 6. 5. 1. 1. 9. 2. 4. 7. 8.]\n",
            "[4. 6. 5. 1. 1. 9. 2. 4. 7. 8.]\n",
            "[4. 6. 5. 1. 1. 9. 2. 4. 7. 8.]\n",
            "[4 6 5 1 1 9 2 4 7 8]\n",
            "[4. 6. 5. 1. 1. 9. 2. 4. 7. 8.]\n"
          ]
        }
      ],
      "source": [
        "Z = np.random.uniform(0,10,10)\n",
        "print (Z - Z%1)\n",
        "print (np.floor(Z))\n",
        "print (np.ceil(Z)-1)\n",
        "print (Z.astype(int))\n",
        "print (np.trunc(Z))"
      ]
    },
    {
      "cell_type": "markdown",
      "metadata": {
        "id": "2Ip0NptcV-KI"
      },
      "source": [
        "#### 37. Create a 5x5 matrix with row values ranging from 0 to 4 (★★☆) \n",
        "(**hint**: np.arange)"
      ]
    },
    {
      "cell_type": "code",
      "execution_count": null,
      "metadata": {
        "id": "7_ErXErwV-KI",
        "colab": {
          "base_uri": "https://localhost:8080/"
        },
        "outputId": "44357c53-ce6a-4281-fd63-f67ad79bb96f"
      },
      "outputs": [
        {
          "output_type": "stream",
          "name": "stdout",
          "text": [
            "[[0. 1. 2. 3. 4.]\n",
            " [0. 1. 2. 3. 4.]\n",
            " [0. 1. 2. 3. 4.]\n",
            " [0. 1. 2. 3. 4.]\n",
            " [0. 1. 2. 3. 4.]]\n"
          ]
        }
      ],
      "source": [
        "Z = np.zeros((5,5))\n",
        "Z += np.arange(5)\n",
        "print(Z)"
      ]
    },
    {
      "cell_type": "markdown",
      "metadata": {
        "id": "qXH-6qPaV-KI"
      },
      "source": [
        "#### 38. Consider a generator function that generates 10 integers and use it to build an array (★☆☆) \n",
        "(**hint**: np.fromiter)"
      ]
    },
    {
      "cell_type": "code",
      "execution_count": null,
      "metadata": {
        "id": "CpfHzkPQV-KI",
        "colab": {
          "base_uri": "https://localhost:8080/"
        },
        "outputId": "4d9dc38b-93de-4c3b-8332-c3b4ddf20db1"
      },
      "outputs": [
        {
          "output_type": "stream",
          "name": "stdout",
          "text": [
            "[0. 1. 2. 3. 4. 5. 6. 7. 8. 9.]\n"
          ]
        }
      ],
      "source": [
        "def generate():\n",
        "    for x in range(10):\n",
        "        yield x\n",
        "Z = np.fromiter(generate(),dtype=float,count=-1)\n",
        "print(Z)"
      ]
    },
    {
      "cell_type": "markdown",
      "metadata": {
        "id": "GlLW6LSzV-KJ"
      },
      "source": [
        "#### 39. Create a vector of size 10 with values ranging from 0 to 1, both excluded (★★☆) \n",
        "(**hint**: np.linspace)"
      ]
    },
    {
      "cell_type": "code",
      "execution_count": null,
      "metadata": {
        "id": "67cCH2OiV-KJ",
        "colab": {
          "base_uri": "https://localhost:8080/"
        },
        "outputId": "ec337440-6bac-4348-a4a4-9db0a9332930"
      },
      "outputs": [
        {
          "output_type": "stream",
          "name": "stdout",
          "text": [
            "[0.09090909 0.18181818 0.27272727 0.36363636 0.45454545 0.54545455\n",
            " 0.63636364 0.72727273 0.81818182 0.90909091]\n"
          ]
        }
      ],
      "source": [
        "Z = np.linspace(0,1,11,endpoint=False)[1:]\n",
        "print(Z)"
      ]
    },
    {
      "cell_type": "markdown",
      "metadata": {
        "id": "zewcrozIV-KJ"
      },
      "source": [
        "#### 40. Create a random vector of size 10 and sort it (★★☆) \n",
        "(**hint**: sort)"
      ]
    },
    {
      "cell_type": "code",
      "execution_count": null,
      "metadata": {
        "id": "xFCW3CNuV-KJ",
        "colab": {
          "base_uri": "https://localhost:8080/"
        },
        "outputId": "12c80a44-9b98-40b6-c077-d1aa3cb1cf1b"
      },
      "outputs": [
        {
          "output_type": "stream",
          "name": "stdout",
          "text": [
            "[0.01779527 0.02731505 0.28259447 0.38165939 0.45926844 0.51070659\n",
            " 0.52073971 0.55481905 0.68760997 0.80826555]\n"
          ]
        }
      ],
      "source": [
        "Z = np.random.random(10)\n",
        "Z.sort()\n",
        "print(Z)"
      ]
    },
    {
      "cell_type": "markdown",
      "metadata": {
        "id": "pLaBvoX4V-KJ"
      },
      "source": [
        "#### 41. How to sum a small array faster than np.sum? (★★☆) \n",
        "(**hint**: np.add.reduce)"
      ]
    },
    {
      "cell_type": "code",
      "execution_count": null,
      "metadata": {
        "id": "cEyusWm-V-KK",
        "colab": {
          "base_uri": "https://localhost:8080/"
        },
        "outputId": "d4f63b17-25e7-46a2-a4fa-7b12d3581d02"
      },
      "outputs": [
        {
          "output_type": "execute_result",
          "data": {
            "text/plain": [
              "45"
            ]
          },
          "metadata": {},
          "execution_count": 24
        }
      ],
      "source": [
        "Z = np.arange(10)\n",
        "np.add.reduce(Z)"
      ]
    },
    {
      "cell_type": "markdown",
      "metadata": {
        "id": "Z2ApG1UcV-KK"
      },
      "source": [
        "#### 42. Consider two random array A and B, check if they are equal (★★☆) \n",
        "(**hint**: np.allclose, np.array\\_equal)"
      ]
    },
    {
      "cell_type": "code",
      "execution_count": null,
      "metadata": {
        "id": "fpA73CpEV-KK",
        "colab": {
          "base_uri": "https://localhost:8080/"
        },
        "outputId": "0e325085-99e5-4bd2-b048-55ba5670977a"
      },
      "outputs": [
        {
          "output_type": "stream",
          "name": "stdout",
          "text": [
            "False\n",
            "False\n"
          ]
        }
      ],
      "source": [
        "A = np.random.randint(0,2,5)\n",
        "B = np.random.randint(0,2,5)\n",
        "# Assuming identical shape of the arrays and a tolerance for the comparison of values\n",
        "equal = np.allclose(A,B)\n",
        "print(equal)\n",
        "# Checking both the shape and the element values, no tolerance (values have to be exactly equal)\n",
        "equal = np.array_equal(A,B)\n",
        "print(equal)"
      ]
    },
    {
      "cell_type": "markdown",
      "metadata": {
        "id": "Twdtz0gTV-KK"
      },
      "source": [
        "#### 43. Make an array immutable (read-only) (★★☆) \n",
        "(**hint**: flags.writeable)"
      ]
    },
    {
      "cell_type": "code",
      "source": [
        "Z = np.zeros(10)\n",
        "Z.flags.writeable = False\n",
        "Z[0] = 1"
      ],
      "metadata": {
        "id": "PzGgzDLTUEPj"
      },
      "execution_count": null,
      "outputs": []
    },
    {
      "cell_type": "markdown",
      "metadata": {
        "id": "fPrvvyXdV-KL"
      },
      "source": [
        "#### 44. Consider a random 10x2 matrix representing cartesian coordinates, convert them to polar coordinates (★★☆) \n",
        "(**hint**: np.sqrt, np.arctan2)"
      ]
    },
    {
      "cell_type": "code",
      "execution_count": null,
      "metadata": {
        "id": "1TOEeBUCV-KL",
        "colab": {
          "base_uri": "https://localhost:8080/"
        },
        "outputId": "881f8a17-dd27-4365-9308-de36259aad2a"
      },
      "outputs": [
        {
          "output_type": "stream",
          "name": "stdout",
          "text": [
            "[0.99997289 0.9098326  1.10603843 0.95191491 0.82277261 0.68497896\n",
            " 0.98348826 0.97040565 0.7402808  0.91161357]\n",
            "[1.39752356 0.24558445 1.05859859 0.65706483 1.34796077 1.54509261\n",
            " 0.67432413 1.40883158 1.29525214 0.86560935]\n"
          ]
        }
      ],
      "source": [
        "Z = np.random.random((10,2))\n",
        "X,Y = Z[:,0], Z[:,1]\n",
        "R = np.sqrt(X**2+Y**2)\n",
        "T = np.arctan2(Y,X)\n",
        "print(R)\n",
        "print(T)"
      ]
    },
    {
      "cell_type": "markdown",
      "metadata": {
        "id": "4FWEQgX9V-KL"
      },
      "source": [
        "#### 45. Create random vector of size 10 and replace the maximum value by 0 (★★☆) \n",
        "(**hint**: argmax)"
      ]
    },
    {
      "cell_type": "code",
      "execution_count": null,
      "metadata": {
        "id": "yflxH47kV-KM",
        "colab": {
          "base_uri": "https://localhost:8080/"
        },
        "outputId": "0b730264-7fa2-42ac-d828-bd70d46888e7"
      },
      "outputs": [
        {
          "output_type": "stream",
          "name": "stdout",
          "text": [
            "[0.53980839 0.74534313 0.1462246  0.23205533 0.46065912 0.19020542\n",
            " 0.32875787 0.         0.3187978  0.53013706]\n"
          ]
        }
      ],
      "source": [
        "Z = np.random.random(10)\n",
        "Z[Z.argmax()] = 0\n",
        "print(Z)"
      ]
    },
    {
      "cell_type": "markdown",
      "metadata": {
        "id": "6qiAKCsXV-KM"
      },
      "source": [
        "#### 46. Create a structured array with `x` and `y` coordinates covering the \\[0,1\\]x\\[0,1\\] area (★★☆) \n",
        "(**hint**: np.meshgrid)"
      ]
    },
    {
      "cell_type": "code",
      "execution_count": null,
      "metadata": {
        "id": "rxwVPsyqV-KM",
        "colab": {
          "base_uri": "https://localhost:8080/"
        },
        "outputId": "b4682358-6a8d-41a4-afb0-5337cff7812d"
      },
      "outputs": [
        {
          "output_type": "stream",
          "name": "stdout",
          "text": [
            "[[(0.  , 0.  ) (0.25, 0.  ) (0.5 , 0.  ) (0.75, 0.  ) (1.  , 0.  )]\n",
            " [(0.  , 0.25) (0.25, 0.25) (0.5 , 0.25) (0.75, 0.25) (1.  , 0.25)]\n",
            " [(0.  , 0.5 ) (0.25, 0.5 ) (0.5 , 0.5 ) (0.75, 0.5 ) (1.  , 0.5 )]\n",
            " [(0.  , 0.75) (0.25, 0.75) (0.5 , 0.75) (0.75, 0.75) (1.  , 0.75)]\n",
            " [(0.  , 1.  ) (0.25, 1.  ) (0.5 , 1.  ) (0.75, 1.  ) (1.  , 1.  )]]\n"
          ]
        }
      ],
      "source": [
        "Z = np.zeros((5,5), [('x',float),('y',float)])\n",
        "Z['x'], Z['y'] = np.meshgrid(np.linspace(0,1,5),\n",
        "                             np.linspace(0,1,5))\n",
        "print(Z)"
      ]
    },
    {
      "cell_type": "markdown",
      "metadata": {
        "id": "SJQFyDw2V-KM"
      },
      "source": [
        "####  47. Given two arrays, X and Y, construct the Cauchy matrix C (Cij =1/(xi - yj)) \n",
        "(**hint**: np.subtract.outer)"
      ]
    },
    {
      "cell_type": "code",
      "execution_count": null,
      "metadata": {
        "id": "JzAFVw7-V-KM",
        "colab": {
          "base_uri": "https://localhost:8080/"
        },
        "outputId": "20dbc45e-3dec-4680-f2bc-25330c44f72f"
      },
      "outputs": [
        {
          "output_type": "stream",
          "name": "stdout",
          "text": [
            "3638.163637117973\n"
          ]
        }
      ],
      "source": [
        "X = np.arange(8)\n",
        "Y = X + 0.5\n",
        "C = 1.0 / np.subtract.outer(X, Y)\n",
        "print(np.linalg.det(C))"
      ]
    },
    {
      "cell_type": "markdown",
      "metadata": {
        "id": "lnV84B6pV-KN"
      },
      "source": [
        "#### 48. Print the minimum and maximum representable value for each numpy scalar type (★★☆) \n",
        "(**hint**: np.iinfo, np.finfo, eps)"
      ]
    },
    {
      "cell_type": "code",
      "execution_count": null,
      "metadata": {
        "id": "ej96UPNhV-KT",
        "colab": {
          "base_uri": "https://localhost:8080/"
        },
        "outputId": "d0d31849-7ff3-4eec-d02a-74df1c68b0ce"
      },
      "outputs": [
        {
          "output_type": "stream",
          "name": "stdout",
          "text": [
            "-128\n",
            "127\n",
            "-2147483648\n",
            "2147483647\n",
            "-9223372036854775808\n",
            "9223372036854775807\n",
            "-3.4028235e+38\n",
            "3.4028235e+38\n",
            "1.1920929e-07\n",
            "-1.7976931348623157e+308\n",
            "1.7976931348623157e+308\n",
            "2.220446049250313e-16\n"
          ]
        }
      ],
      "source": [
        "for dtype in [np.int8, np.int32, np.int64]:\n",
        "   print(np.iinfo(dtype).min)\n",
        "   print(np.iinfo(dtype).max)\n",
        "for dtype in [np.float32, np.float64]:\n",
        "   print(np.finfo(dtype).min)\n",
        "   print(np.finfo(dtype).max)\n",
        "   print(np.finfo(dtype).eps)"
      ]
    },
    {
      "cell_type": "markdown",
      "metadata": {
        "id": "fD11baqeV-KT"
      },
      "source": [
        "#### 49. How to print all the values of an array? (★★☆) \n",
        "(**hint**: np.set\\_printoptions)"
      ]
    },
    {
      "cell_type": "code",
      "source": [
        "np.set_printoptions(threshold=np.nan)\n",
        "Z = np.zeros((16,16))\n",
        "print(Z)"
      ],
      "metadata": {
        "id": "o_XmBGLnWdhW"
      },
      "execution_count": null,
      "outputs": []
    },
    {
      "cell_type": "markdown",
      "metadata": {
        "id": "v_Xw2mH3V-KU"
      },
      "source": [
        "#### 50. How to find the closest value (to a given scalar) in a vector? (★★☆) \n",
        "(**hint**: argmin)"
      ]
    },
    {
      "cell_type": "code",
      "execution_count": null,
      "metadata": {
        "id": "fxJ4hYwwV-KU",
        "colab": {
          "base_uri": "https://localhost:8080/"
        },
        "outputId": "27356535-3c59-460c-a421-fe772bed1eae"
      },
      "outputs": [
        {
          "output_type": "stream",
          "name": "stdout",
          "text": [
            "58\n"
          ]
        }
      ],
      "source": [
        "Z = np.arange(100)\n",
        "v = np.random.uniform(0,100)\n",
        "index = (np.abs(Z-v)).argmin()\n",
        "print(Z[index])"
      ]
    },
    {
      "cell_type": "markdown",
      "metadata": {
        "id": "Hm5IrXZAV-KU"
      },
      "source": [
        "#### 51. Create a structured array representing a position (x,y) and a color (r,g,b) (★★☆) \n",
        "(**hint**: dtype)"
      ]
    },
    {
      "cell_type": "code",
      "execution_count": null,
      "metadata": {
        "id": "Ofm4bPB9V-KV",
        "colab": {
          "base_uri": "https://localhost:8080/"
        },
        "outputId": "335c23db-3c95-4ff9-c4fc-f7b3891f7958"
      },
      "outputs": [
        {
          "output_type": "stream",
          "name": "stdout",
          "text": [
            "[((0., 0.), (0., 0., 0.)) ((0., 0.), (0., 0., 0.))\n",
            " ((0., 0.), (0., 0., 0.)) ((0., 0.), (0., 0., 0.))\n",
            " ((0., 0.), (0., 0., 0.)) ((0., 0.), (0., 0., 0.))\n",
            " ((0., 0.), (0., 0., 0.)) ((0., 0.), (0., 0., 0.))\n",
            " ((0., 0.), (0., 0., 0.)) ((0., 0.), (0., 0., 0.))]\n"
          ]
        },
        {
          "output_type": "stream",
          "name": "stderr",
          "text": [
            "/usr/local/lib/python3.7/dist-packages/ipykernel_launcher.py:5: FutureWarning: Passing (type, 1) or '1type' as a synonym of type is deprecated; in a future version of numpy, it will be understood as (type, (1,)) / '(1,)type'.\n",
            "  \"\"\"\n"
          ]
        }
      ],
      "source": [
        "Z = np.zeros(10, [ ('position', [ ('x', float, 1),\n",
        "                                  ('y', float, 1)]),\n",
        "                   ('color',    [ ('r', float, 1),\n",
        "                                  ('g', float, 1),\n",
        "                                  ('b', float, 1)])])\n",
        "print(Z)"
      ]
    },
    {
      "cell_type": "markdown",
      "metadata": {
        "id": "UZsUyZ48V-KV"
      },
      "source": [
        "#### 52. Consider a random vector with shape (100,2) representing coordinates, find point by point distances (★★☆) \n",
        "(**hint**: np.atleast\\_2d, T, np.sqrt)"
      ]
    },
    {
      "cell_type": "code",
      "execution_count": null,
      "metadata": {
        "id": "gi7oUHq2V-KV",
        "colab": {
          "base_uri": "https://localhost:8080/"
        },
        "outputId": "a8080d89-eaa0-4326-de88-9e635b404dc7"
      },
      "outputs": [
        {
          "output_type": "stream",
          "name": "stdout",
          "text": [
            "[[0.         0.29382608 0.24598527 0.17443831 0.64194094 0.40246182\n",
            "  0.69617404 0.34273162 0.5618162  0.32920194]\n",
            " [0.29382608 0.         0.1542862  0.46806085 0.70797742 0.48548335\n",
            "  0.49707336 0.08278767 0.63973712 0.16591582]\n",
            " [0.24598527 0.1542862  0.         0.40815741 0.55572449 0.56327472\n",
            "  0.45226016 0.23698707 0.48610192 0.08352787]\n",
            " [0.17443831 0.46806085 0.40815741 0.         0.67416722 0.43741743\n",
            "  0.84620959 0.51290625 0.59471701 0.49131612]\n",
            " [0.64194094 0.70797742 0.55572449 0.67416722 0.         1.04414202\n",
            "  0.59670162 0.79048431 0.08060569 0.55723438]\n",
            " [0.40246182 0.48548335 0.56327472 0.43741743 1.04414202 0.\n",
            "  0.98223276 0.45539659 0.96416334 0.62552635]\n",
            " [0.69617404 0.49707336 0.45226016 0.84620959 0.59670162 0.98223276\n",
            "  0.         0.54193106 0.57987862 0.37219187]\n",
            " [0.34273162 0.08278767 0.23698707 0.51290625 0.79048431 0.45539659\n",
            "  0.54193106 0.         0.72250489 0.24273927]\n",
            " [0.5618162  0.63973712 0.48610192 0.59471701 0.08060569 0.96416334\n",
            "  0.57987862 0.72250489 0.         0.49495912]\n",
            " [0.32920194 0.16591582 0.08352787 0.49131612 0.55723438 0.62552635\n",
            "  0.37219187 0.24273927 0.49495912 0.        ]]\n",
            "[[0.         0.54510579 0.34319825 0.46329994 0.21212178 0.34317473\n",
            "  0.12638423 0.61931905 0.30131202 0.42165376]\n",
            " [0.54510579 0.         0.55717105 0.28126351 0.75570771 0.70051211\n",
            "  0.41963813 1.02639661 0.67058792 0.9143256 ]\n",
            " [0.34319825 0.55717105 0.         0.31434793 0.47191345 0.16550317\n",
            "  0.31762052 0.47598004 0.64380326 0.43249218]\n",
            " [0.46329994 0.28126351 0.31434793 0.         0.66378085 0.4763949\n",
            "  0.35283079 0.78915642 0.7013409  0.72838851]\n",
            " [0.21212178 0.75570771 0.47191345 0.66378085 0.         0.39193503\n",
            "  0.33845617 0.5619083  0.30713164 0.31505094]\n",
            " [0.34317473 0.70051211 0.16550317 0.4763949  0.39193503 0.\n",
            "  0.37717574 0.32667669 0.63212654 0.27220579]\n",
            " [0.12638423 0.41963813 0.31762052 0.35283079 0.33845617 0.37717574\n",
            "  0.         0.68681514 0.35901277 0.51966656]\n",
            " [0.61931905 1.02639661 0.47598004 0.78915642 0.5619083  0.32667669\n",
            "  0.68681514 0.         0.86094504 0.25560908]\n",
            " [0.30131202 0.67058792 0.64380326 0.7013409  0.30713164 0.63212654\n",
            "  0.35901277 0.86094504 0.         0.62090777]\n",
            " [0.42165376 0.9143256  0.43249218 0.72838851 0.31505094 0.27220579\n",
            "  0.51966656 0.25560908 0.62090777 0.        ]]\n"
          ]
        }
      ],
      "source": [
        "Z = np.random.random((10,2))\n",
        "X,Y = np.atleast_2d(Z[:,0], Z[:,1])\n",
        "D = np.sqrt( (X-X.T)**2 + (Y-Y.T)**2)\n",
        "print(D)\n",
        "# Much faster with scipy\n",
        "import scipy\n",
        "# Thanks Gavin Heverly-Coulson (#issue 1)\n",
        "import scipy.spatial\n",
        "Z = np.random.random((10,2))\n",
        "D = scipy.spatial.distance.cdist(Z,Z)\n",
        "print(D)"
      ]
    },
    {
      "cell_type": "markdown",
      "metadata": {
        "id": "_xuEkDjNV-KV"
      },
      "source": [
        "#### 53. How to convert a float (32 bits) array into an integer (32 bits) in place? \n",
        "(**hint**: astype(copy=False))"
      ]
    },
    {
      "cell_type": "code",
      "execution_count": null,
      "metadata": {
        "id": "swdK6-bSV-KV",
        "colab": {
          "base_uri": "https://localhost:8080/"
        },
        "outputId": "3bb56072-048c-4862-cf1c-2009fc709c67"
      },
      "outputs": [
        {
          "output_type": "stream",
          "name": "stdout",
          "text": [
            "[54 76 94 69  3 45 46 56 82 81]\n"
          ]
        }
      ],
      "source": [
        "Z = (np.random.rand(10)*100).astype(np.float32)\n",
        "Y = Z.view(np.int32)\n",
        "Y[:] = Z\n",
        "print(Y)"
      ]
    },
    {
      "cell_type": "markdown",
      "metadata": {
        "id": "dvbLK0P2V-KW"
      },
      "source": [
        "#### 54. How to read the following file? (★★☆) \n",
        "(**hint**: np.genfromtxt)"
      ]
    },
    {
      "cell_type": "markdown",
      "metadata": {
        "id": "fjEdJQUMV-KW"
      },
      "source": [
        "```\n",
        "1, 2, 3, 4, 5\n",
        "6,  ,  , 7, 8\n",
        " ,  , 9,10,11\n",
        "```"
      ]
    },
    {
      "cell_type": "code",
      "execution_count": null,
      "metadata": {
        "id": "GdIKTDxhV-KW",
        "colab": {
          "base_uri": "https://localhost:8080/"
        },
        "outputId": "216f86cc-9ea2-4cea-dd00-c7509ad377fa"
      },
      "outputs": [
        {
          "output_type": "stream",
          "name": "stdout",
          "text": [
            "[[ 1  2  3  4  5]\n",
            " [ 6 -1 -1  7  8]\n",
            " [-1 -1  9 10 11]]\n"
          ]
        },
        {
          "output_type": "stream",
          "name": "stderr",
          "text": [
            "/usr/local/lib/python3.7/dist-packages/ipykernel_launcher.py:6: DeprecationWarning: `np.int` is a deprecated alias for the builtin `int`. To silence this warning, use `int` by itself. Doing this will not modify any behavior and is safe. When replacing `np.int`, you may wish to use e.g. `np.int64` or `np.int32` to specify the precision. If you wish to review your current use, check the release note link for additional information.\n",
            "Deprecated in NumPy 1.20; for more details and guidance: https://numpy.org/devdocs/release/1.20.0-notes.html#deprecations\n",
            "  \n"
          ]
        }
      ],
      "source": [
        "from io import StringIO\n",
        "s = StringIO('''1, 2, 3, 4, 5\n",
        "                6,  ,  , 7, 8\n",
        "                 ,  , 9,10,11\n",
        "''')\n",
        "Z = np.genfromtxt(s, delimiter=\",\", dtype=np.int)\n",
        "print(Z)"
      ]
    },
    {
      "cell_type": "markdown",
      "metadata": {
        "id": "8_7rDYMGV-KW"
      },
      "source": [
        "#### 55. What is the equivalent of enumerate for numpy arrays? (★★☆) \n",
        "(**hint**: np.ndenumerate, np.ndindex)"
      ]
    },
    {
      "cell_type": "code",
      "execution_count": null,
      "metadata": {
        "id": "koNCZx9KV-KX",
        "colab": {
          "base_uri": "https://localhost:8080/"
        },
        "outputId": "595e4bca-4551-47ba-eec3-aeecd041e9cc"
      },
      "outputs": [
        {
          "output_type": "stream",
          "name": "stdout",
          "text": [
            "(0, 0) 0\n",
            "(0, 1) 1\n",
            "(0, 2) 2\n",
            "(1, 0) 3\n",
            "(1, 1) 4\n",
            "(1, 2) 5\n",
            "(2, 0) 6\n",
            "(2, 1) 7\n",
            "(2, 2) 8\n",
            "(0, 0) 0\n",
            "(0, 1) 1\n",
            "(0, 2) 2\n",
            "(1, 0) 3\n",
            "(1, 1) 4\n",
            "(1, 2) 5\n",
            "(2, 0) 6\n",
            "(2, 1) 7\n",
            "(2, 2) 8\n"
          ]
        }
      ],
      "source": [
        "Z = np.arange(9).reshape(3,3)\n",
        "for index, value in np.ndenumerate(Z):\n",
        "    print(index, value)\n",
        "for index in np.ndindex(Z.shape):\n",
        "    print(index, Z[index])"
      ]
    },
    {
      "cell_type": "markdown",
      "metadata": {
        "id": "FvN5wKuiV-KX"
      },
      "source": [
        "#### 56. Generate a generic 2D Gaussian-like array (★★☆) \n",
        "(**hint**: np.meshgrid, np.exp)"
      ]
    },
    {
      "cell_type": "code",
      "execution_count": null,
      "metadata": {
        "id": "oaB03MRKV-KX",
        "colab": {
          "base_uri": "https://localhost:8080/"
        },
        "outputId": "b9e919d3-8453-4fca-e7c9-b0eb2f542d61"
      },
      "outputs": [
        {
          "output_type": "stream",
          "name": "stdout",
          "text": [
            "[[0.36787944 0.44822088 0.51979489 0.57375342 0.60279818 0.60279818\n",
            "  0.57375342 0.51979489 0.44822088 0.36787944]\n",
            " [0.44822088 0.54610814 0.63331324 0.69905581 0.73444367 0.73444367\n",
            "  0.69905581 0.63331324 0.54610814 0.44822088]\n",
            " [0.51979489 0.63331324 0.73444367 0.81068432 0.85172308 0.85172308\n",
            "  0.81068432 0.73444367 0.63331324 0.51979489]\n",
            " [0.57375342 0.69905581 0.81068432 0.89483932 0.9401382  0.9401382\n",
            "  0.89483932 0.81068432 0.69905581 0.57375342]\n",
            " [0.60279818 0.73444367 0.85172308 0.9401382  0.98773022 0.98773022\n",
            "  0.9401382  0.85172308 0.73444367 0.60279818]\n",
            " [0.60279818 0.73444367 0.85172308 0.9401382  0.98773022 0.98773022\n",
            "  0.9401382  0.85172308 0.73444367 0.60279818]\n",
            " [0.57375342 0.69905581 0.81068432 0.89483932 0.9401382  0.9401382\n",
            "  0.89483932 0.81068432 0.69905581 0.57375342]\n",
            " [0.51979489 0.63331324 0.73444367 0.81068432 0.85172308 0.85172308\n",
            "  0.81068432 0.73444367 0.63331324 0.51979489]\n",
            " [0.44822088 0.54610814 0.63331324 0.69905581 0.73444367 0.73444367\n",
            "  0.69905581 0.63331324 0.54610814 0.44822088]\n",
            " [0.36787944 0.44822088 0.51979489 0.57375342 0.60279818 0.60279818\n",
            "  0.57375342 0.51979489 0.44822088 0.36787944]]\n"
          ]
        }
      ],
      "source": [
        "X, Y = np.meshgrid(np.linspace(-1,1,10), np.linspace(-1,1,10))\n",
        "D = np.sqrt(X*X+Y*Y)\n",
        "sigma, mu = 1.0, 0.0\n",
        "G = np.exp(-( (D-mu)**2 / ( 2.0 * sigma**2 ) ) )\n",
        "print(G)"
      ]
    },
    {
      "cell_type": "markdown",
      "metadata": {
        "id": "XXcz7UFyV-KX"
      },
      "source": [
        "#### 57. How to randomly place p elements in a 2D array? (★★☆) \n",
        "(**hint**: np.put, np.random.choice)"
      ]
    },
    {
      "cell_type": "code",
      "execution_count": null,
      "metadata": {
        "id": "4Gdi8n-VV-KX",
        "colab": {
          "base_uri": "https://localhost:8080/"
        },
        "outputId": "0fc6121e-725a-45af-edec-f421c3314039"
      },
      "outputs": [
        {
          "output_type": "stream",
          "name": "stdout",
          "text": [
            "[[0. 0. 0. 0. 0. 0. 0. 0. 0. 0.]\n",
            " [0. 0. 0. 0. 0. 0. 0. 0. 0. 0.]\n",
            " [0. 0. 0. 0. 0. 0. 0. 0. 0. 0.]\n",
            " [0. 0. 0. 0. 0. 0. 0. 0. 0. 0.]\n",
            " [0. 0. 0. 0. 0. 0. 0. 0. 0. 0.]\n",
            " [0. 0. 0. 0. 0. 0. 0. 0. 0. 0.]\n",
            " [0. 0. 0. 0. 0. 0. 0. 0. 0. 0.]\n",
            " [0. 0. 0. 0. 0. 0. 0. 0. 0. 0.]\n",
            " [0. 0. 0. 0. 0. 0. 0. 0. 0. 1.]\n",
            " [1. 0. 0. 0. 0. 0. 1. 0. 0. 0.]]\n"
          ]
        }
      ],
      "source": [
        "n = 10\n",
        "p = 3\n",
        "Z = np.zeros((n,n))\n",
        "np.put(Z, np.random.choice(range(n*n), p, replace=False),1)\n",
        "print(Z)"
      ]
    },
    {
      "cell_type": "markdown",
      "metadata": {
        "id": "WA64L8vuV-KY"
      },
      "source": [
        "#### 58. Subtract the mean of each row of a matrix (★★☆) \n",
        "(**hint**: mean(axis=,keepdims=))"
      ]
    },
    {
      "cell_type": "code",
      "execution_count": null,
      "metadata": {
        "id": "kzxPnG7gV-KY",
        "colab": {
          "base_uri": "https://localhost:8080/"
        },
        "outputId": "2fb6c6bd-aed8-402e-ad3d-b4b5b8691f0b"
      },
      "outputs": [
        {
          "output_type": "stream",
          "name": "stdout",
          "text": [
            "[[-0.07562188 -0.21067885 -0.14996486 -0.28719104  0.31057225  0.07030666\n",
            "   0.451646    0.30672931 -0.13241276 -0.28338483]\n",
            " [-0.15529433  0.09963617 -0.06181116 -0.11879676  0.18438474 -0.20447638\n",
            "   0.03220427  0.20964533 -0.08616973  0.10067783]\n",
            " [-0.30926069  0.33584904 -0.3623136   0.14725403 -0.21223378  0.09670925\n",
            "   0.42765534  0.23023299 -0.22806078 -0.12583182]\n",
            " [-0.11766393 -0.31058225 -0.01798314  0.40242372 -0.52944869 -0.05693821\n",
            "   0.40972083  0.28587108  0.19267144 -0.25807084]\n",
            " [ 0.38544691 -0.23691046  0.36828163 -0.41866474 -0.28419961 -0.08672275\n",
            "   0.07378647 -0.11761518  0.2284238   0.08817394]]\n"
          ]
        }
      ],
      "source": [
        "X = np.random.rand(5, 10)\n",
        "Y = X - X.mean(axis=1, keepdims=True)\n",
        "Y = X - X.mean(axis=1).reshape(-1, 1)\n",
        "print(Y)"
      ]
    },
    {
      "cell_type": "markdown",
      "metadata": {
        "id": "j6KUADh8V-KY"
      },
      "source": [
        "#### 59. How to sort an array by the nth column? (★★☆) \n",
        "(**hint**: argsort)"
      ]
    },
    {
      "cell_type": "code",
      "execution_count": null,
      "metadata": {
        "id": "tT1zCmgvV-KY",
        "colab": {
          "base_uri": "https://localhost:8080/"
        },
        "outputId": "2bb8803f-d6b5-474e-f06b-7f9bcebebbbe"
      },
      "outputs": [
        {
          "output_type": "stream",
          "name": "stdout",
          "text": [
            "[[9 4 0]\n",
            " [8 1 0]\n",
            " [3 6 8]]\n",
            "[[8 1 0]\n",
            " [9 4 0]\n",
            " [3 6 8]]\n"
          ]
        }
      ],
      "source": [
        "Z = np.random.randint(0,10,(3,3))\n",
        "print(Z)\n",
        "print(Z[Z[:,1].argsort()])"
      ]
    },
    {
      "cell_type": "markdown",
      "metadata": {
        "id": "r9WS9zDtV-KY"
      },
      "source": [
        "#### 60. How to tell if a given 2D array has null columns? (★★☆) \n",
        "(**hint**: any, ~)"
      ]
    },
    {
      "cell_type": "code",
      "execution_count": null,
      "metadata": {
        "id": "74c8hSRMV-KZ",
        "colab": {
          "base_uri": "https://localhost:8080/"
        },
        "outputId": "772f3a73-f164-47e1-e604-ebc2a1d60585"
      },
      "outputs": [
        {
          "output_type": "stream",
          "name": "stdout",
          "text": [
            "True\n"
          ]
        }
      ],
      "source": [
        "Z = np.random.randint(0,3,(3,10))\n",
        "print((~Z.any(axis=0)).any())"
      ]
    },
    {
      "cell_type": "markdown",
      "metadata": {
        "id": "Xa_M2YGZV-KZ"
      },
      "source": [
        "#### 61. Find the nearest value from a given value in an array (★★☆) \n",
        "(**hint**: np.abs, argmin, flat)"
      ]
    },
    {
      "cell_type": "code",
      "execution_count": null,
      "metadata": {
        "id": "2mE8cEdqV-KZ",
        "colab": {
          "base_uri": "https://localhost:8080/"
        },
        "outputId": "320a571e-8cc8-476f-bcbe-0b7f7915b46a"
      },
      "outputs": [
        {
          "output_type": "stream",
          "name": "stdout",
          "text": [
            "0.5927146639283654\n"
          ]
        }
      ],
      "source": [
        "Z = np.random.uniform(0,1,10)\n",
        "z = 0.5\n",
        "m = Z.flat[np.abs(Z - z).argmin()]\n",
        "print(m)"
      ]
    },
    {
      "cell_type": "markdown",
      "metadata": {
        "id": "YS8cqnC_V-KZ"
      },
      "source": [
        "#### 62. Considering two arrays with shape (1,3) and (3,1), how to compute their sum using an iterator? (★★☆) \n",
        "(**hint**: np.nditer)"
      ]
    },
    {
      "cell_type": "code",
      "execution_count": null,
      "metadata": {
        "id": "RK44k0uBV-KZ",
        "colab": {
          "base_uri": "https://localhost:8080/"
        },
        "outputId": "3f768050-80bc-416c-afaf-e53637ba2034"
      },
      "outputs": [
        {
          "output_type": "stream",
          "name": "stdout",
          "text": [
            "[[0 1 2]\n",
            " [1 2 3]\n",
            " [2 3 4]]\n"
          ]
        }
      ],
      "source": [
        "A = np.arange(3).reshape(3,1)\n",
        "B = np.arange(3).reshape(1,3)\n",
        "it = np.nditer([A,B,None])\n",
        "for x,y,z in it: z[...] = x + y\n",
        "print(it.operands[2])"
      ]
    },
    {
      "cell_type": "markdown",
      "metadata": {
        "id": "JzQCQvD0V-Ka"
      },
      "source": [
        "#### 63. Create an array class that has a name attribute (★★☆) \n",
        "(**hint**: class method)"
      ]
    },
    {
      "cell_type": "code",
      "execution_count": null,
      "metadata": {
        "id": "cAAdgwj9V-Ka",
        "colab": {
          "base_uri": "https://localhost:8080/"
        },
        "outputId": "4a1a7572-1418-4b39-d5f3-572df8cd4eda"
      },
      "outputs": [
        {
          "output_type": "stream",
          "name": "stdout",
          "text": [
            "range_10\n"
          ]
        }
      ],
      "source": [
        "class NamedArray(np.ndarray):\n",
        "    def __new__(cls, array, name=\"no name\"):\n",
        "        obj = np.asarray(array).view(cls)\n",
        "        obj.name = name\n",
        "        return obj\n",
        "    def __array_finalize__(self, obj):\n",
        "        if obj is None: return\n",
        "        self.info = getattr(obj, 'name', \"no name\")\n",
        "Z = NamedArray(np.arange(10), \"range_10\")\n",
        "print (Z.name)"
      ]
    },
    {
      "cell_type": "markdown",
      "metadata": {
        "id": "FSILVV9oV-Ka"
      },
      "source": [
        "#### 64. Consider a given vector, how to add 1 to each element indexed by a second vector (be careful with repeated indices)? (★★★) \n",
        "(**hint**: np.bincount | np.add.at)"
      ]
    },
    {
      "cell_type": "code",
      "execution_count": null,
      "metadata": {
        "id": "AOyIijjmV-Ka",
        "colab": {
          "base_uri": "https://localhost:8080/"
        },
        "outputId": "ea1088e2-4e23-43e7-ecf7-74401729d67d"
      },
      "outputs": [
        {
          "output_type": "stream",
          "name": "stdout",
          "text": [
            "[2. 4. 2. 2. 4. 3. 2. 2. 5. 4.]\n"
          ]
        }
      ],
      "source": [
        "Z = np.ones(10)\n",
        "I = np.random.randint(0,len(Z),20)\n",
        "Z += np.bincount(I, minlength=len(Z))\n",
        "print(Z)"
      ]
    },
    {
      "cell_type": "markdown",
      "metadata": {
        "id": "kVvCT13DV-Ka"
      },
      "source": [
        "#### 65. How to accumulate elements of a vector (X) to an array (F) based on an index list (I)? (★★★) \n",
        "(**hint**: np.bincount)"
      ]
    },
    {
      "cell_type": "code",
      "execution_count": null,
      "metadata": {
        "id": "bJLGuROmV-Kb",
        "colab": {
          "base_uri": "https://localhost:8080/"
        },
        "outputId": "6caa104b-7082-4421-9623-556921f60a82"
      },
      "outputs": [
        {
          "output_type": "stream",
          "name": "stdout",
          "text": [
            "[0. 7. 0. 6. 5. 0. 0. 0. 0. 3.]\n"
          ]
        }
      ],
      "source": [
        "X = [1,2,3,4,5,6]\n",
        "I = [1,3,9,3,4,1]\n",
        "F = np.bincount(I,X)\n",
        "print(F)"
      ]
    },
    {
      "cell_type": "markdown",
      "metadata": {
        "id": "PWatcT21V-Kb"
      },
      "source": [
        "#### 66. Considering a (w,h,3) image of (dtype=ubyte), compute the number of unique colors (★★★) \n",
        "(**hint**: np.unique)"
      ]
    },
    {
      "cell_type": "code",
      "execution_count": null,
      "metadata": {
        "id": "O7_9j3LKV-Kb",
        "colab": {
          "base_uri": "https://localhost:8080/"
        },
        "outputId": "0de78724-1368-40bc-b498-6540836c8a29"
      },
      "outputs": [
        {
          "output_type": "stream",
          "name": "stdout",
          "text": [
            "[0 1]\n"
          ]
        }
      ],
      "source": [
        "w,h = 16,16\n",
        "I = np.random.randint(0,2,(h,w,3)).astype(np.ubyte)\n",
        "F = I[...,0]*256*256 + I[...,1]*256 +I[...,2]\n",
        "n = len(np.unique(F))\n",
        "print(np.unique(I))"
      ]
    },
    {
      "cell_type": "markdown",
      "metadata": {
        "id": "9iTp5TtsV-Kb"
      },
      "source": [
        "#### 67. Considering a four dimensions array, how to get sum over the last two axis at once? (★★★) \n",
        "(**hint**: sum(axis=(-2,-1)))"
      ]
    },
    {
      "cell_type": "code",
      "execution_count": null,
      "metadata": {
        "id": "5S8SJA2zV-Kc",
        "colab": {
          "base_uri": "https://localhost:8080/"
        },
        "outputId": "96984004-93d7-468e-cc53-11f4e00df87c"
      },
      "outputs": [
        {
          "output_type": "stream",
          "name": "stdout",
          "text": [
            "[[52 55 43 52]\n",
            " [56 53 44 57]\n",
            " [49 35 83 45]]\n",
            "[[52 55 43 52]\n",
            " [56 53 44 57]\n",
            " [49 35 83 45]]\n"
          ]
        }
      ],
      "source": [
        "A = np.random.randint(0,10,(3,4,3,4))\n",
        "sum = A.sum(axis=(-2,-1))\n",
        "print(sum)\n",
        "sum = A.reshape(A.shape[:-2] + (-1,)).sum(axis=-1)\n",
        "print(sum)"
      ]
    },
    {
      "cell_type": "markdown",
      "metadata": {
        "id": "rcvXOs4eV-Kc"
      },
      "source": [
        "#### 68. Considering a one-dimensional vector D, how to compute means of subsets of D using a vector S of same size describing subset  indices? (★★★) \n",
        "(**hint**: np.bincount)"
      ]
    },
    {
      "cell_type": "code",
      "execution_count": null,
      "metadata": {
        "id": "RS7AiUUDV-Kc",
        "colab": {
          "base_uri": "https://localhost:8080/"
        },
        "outputId": "717384f4-a245-428a-f2cf-4e95c48ff905"
      },
      "outputs": [
        {
          "output_type": "stream",
          "name": "stdout",
          "text": [
            "[0.42386465 0.57443568 0.41645776 0.58313645 0.44972233 0.47012994\n",
            " 0.51355492 0.33572578 0.49294004 0.52700243]\n",
            "0    0.423865\n",
            "1    0.574436\n",
            "2    0.416458\n",
            "3    0.583136\n",
            "4    0.449722\n",
            "5    0.470130\n",
            "6    0.513555\n",
            "7    0.335726\n",
            "8    0.492940\n",
            "9    0.527002\n",
            "dtype: float64\n"
          ]
        }
      ],
      "source": [
        "D = np.random.uniform(0,1,100)\n",
        "S = np.random.randint(0,10,100)\n",
        "D_sums = np.bincount(S, weights=D)\n",
        "D_counts = np.bincount(S)\n",
        "D_means = D_sums / D_counts\n",
        "print(D_means)\n",
        "import pandas as pd\n",
        "print(pd.Series(D).groupby(S).mean())"
      ]
    },
    {
      "cell_type": "markdown",
      "metadata": {
        "id": "cuW3-O1FV-Kc"
      },
      "source": [
        "#### 69. How to get the diagonal of a dot product? (★★★) \n",
        "(**hint**: np.diag)"
      ]
    },
    {
      "cell_type": "code",
      "execution_count": null,
      "metadata": {
        "id": "xVPu4qcJV-Kd",
        "colab": {
          "base_uri": "https://localhost:8080/"
        },
        "outputId": "342941d1-576c-41ec-ab3f-f94e1c4df16e"
      },
      "outputs": [
        {
          "output_type": "execute_result",
          "data": {
            "text/plain": [
              "array([2.18131945, 1.33395772, 0.89372594, 1.87813932, 0.52936341])"
            ]
          },
          "metadata": {},
          "execution_count": 56
        }
      ],
      "source": [
        "A = np.random.uniform(0,1,(5,5))\n",
        "B = np.random.uniform(0,1,(5,5))\n",
        "# Slow version  \n",
        "np.diag(np.dot(A, B))\n",
        "# Fast version\n",
        "np.sum(A * B.T, axis=1)\n",
        "# Faster version\n",
        "np.einsum(\"ij,ji->i\", A, B)"
      ]
    },
    {
      "cell_type": "markdown",
      "metadata": {
        "id": "oxh0en_-V-Kd"
      },
      "source": [
        "#### 70. Consider the vector \\[1, 2, 3, 4, 5\\], how to build a new vector with 3 consecutive zeros interleaved between each value? (★★★) \n",
        "(**hint**: array\\[::4\\])"
      ]
    },
    {
      "cell_type": "code",
      "execution_count": null,
      "metadata": {
        "id": "MqX7Cs8MV-Ke",
        "colab": {
          "base_uri": "https://localhost:8080/"
        },
        "outputId": "c47075e7-1f62-4198-d45c-8eb191eb4331"
      },
      "outputs": [
        {
          "output_type": "stream",
          "name": "stdout",
          "text": [
            "[1. 0. 0. 0. 2. 0. 0. 0. 3. 0. 0. 0. 4. 0. 0. 0. 5.]\n"
          ]
        }
      ],
      "source": [
        "Z = np.array([1,2,3,4,5])\n",
        "nz = 3\n",
        "Z0 = np.zeros(len(Z) + (len(Z)-1)*(nz))\n",
        "Z0[::nz+1] = Z\n",
        "print(Z0)"
      ]
    },
    {
      "cell_type": "markdown",
      "metadata": {
        "id": "HIRy_3DsV-Ke"
      },
      "source": [
        "#### 71. Consider an array of dimension (5,5,3), how to mulitply it by an array with dimensions (5,5)? (★★★) \n",
        "(**hint**: array\\[:, :, None\\])"
      ]
    },
    {
      "cell_type": "code",
      "execution_count": null,
      "metadata": {
        "collapsed": true,
        "id": "Yn24oMUEV-Ke",
        "colab": {
          "base_uri": "https://localhost:8080/"
        },
        "outputId": "590fe34a-f29e-4dc8-9b98-c58ef5e2db52"
      },
      "outputs": [
        {
          "output_type": "stream",
          "name": "stdout",
          "text": [
            "[[[2. 2. 2.]\n",
            "  [2. 2. 2.]\n",
            "  [2. 2. 2.]\n",
            "  [2. 2. 2.]\n",
            "  [2. 2. 2.]]\n",
            "\n",
            " [[2. 2. 2.]\n",
            "  [2. 2. 2.]\n",
            "  [2. 2. 2.]\n",
            "  [2. 2. 2.]\n",
            "  [2. 2. 2.]]\n",
            "\n",
            " [[2. 2. 2.]\n",
            "  [2. 2. 2.]\n",
            "  [2. 2. 2.]\n",
            "  [2. 2. 2.]\n",
            "  [2. 2. 2.]]\n",
            "\n",
            " [[2. 2. 2.]\n",
            "  [2. 2. 2.]\n",
            "  [2. 2. 2.]\n",
            "  [2. 2. 2.]\n",
            "  [2. 2. 2.]]\n",
            "\n",
            " [[2. 2. 2.]\n",
            "  [2. 2. 2.]\n",
            "  [2. 2. 2.]\n",
            "  [2. 2. 2.]\n",
            "  [2. 2. 2.]]]\n"
          ]
        }
      ],
      "source": [
        "A = np.ones((5,5,3))\n",
        "B = 2*np.ones((5,5))\n",
        "print(A * B[:,:,None])"
      ]
    },
    {
      "cell_type": "markdown",
      "metadata": {
        "id": "G5tsEIlvV-Kf"
      },
      "source": [
        "#### 72. How to swap two rows of an array? (★★★) \n",
        "(**hint**: array\\[\\[\\]\\] = array\\[\\[\\]\\])"
      ]
    },
    {
      "cell_type": "code",
      "execution_count": null,
      "metadata": {
        "id": "5RFU94EqV-Kg",
        "colab": {
          "base_uri": "https://localhost:8080/"
        },
        "outputId": "48af8a5a-739e-4092-d397-36a8c70042ad"
      },
      "outputs": [
        {
          "output_type": "stream",
          "name": "stdout",
          "text": [
            "[[ 5  6  7  8  9]\n",
            " [ 0  1  2  3  4]\n",
            " [10 11 12 13 14]\n",
            " [15 16 17 18 19]\n",
            " [20 21 22 23 24]]\n"
          ]
        }
      ],
      "source": [
        "A = np.arange(25).reshape(5,5)\n",
        "A[[0,1]] = A[[1,0]]\n",
        "print(A)"
      ]
    },
    {
      "cell_type": "markdown",
      "metadata": {
        "id": "St9h7cYwV-Kg"
      },
      "source": [
        "#### 73. Consider a set of 10 triplets describing 10 triangles (with shared vertices), find the set of unique line segments composing all the  triangles (★★★) \n",
        "(**hint**: repeat, np.roll, np.sort, view, np.unique)"
      ]
    },
    {
      "cell_type": "code",
      "execution_count": null,
      "metadata": {
        "id": "Wyc3A7PhV-Kg",
        "colab": {
          "base_uri": "https://localhost:8080/"
        },
        "outputId": "6890370c-3851-4503-98d7-a319748ad458"
      },
      "outputs": [
        {
          "output_type": "stream",
          "name": "stdout",
          "text": [
            "[( 1, 36) ( 1, 65) ( 1, 84) ( 1, 92) ( 3, 50) ( 3, 98) (14, 26) (14, 64)\n",
            " (26, 27) (26, 64) (26, 80) (27, 80) (33, 41) (33, 68) (35, 43) (35, 96)\n",
            " (36, 40) (36, 57) (36, 92) (40, 57) (41, 68) (42, 70) (42, 88) (43, 96)\n",
            " (50, 98) (65, 84) (70, 88) (82, 83) (82, 94) (83, 94)]\n"
          ]
        }
      ],
      "source": [
        "faces = np.random.randint(0,100,(10,3))\n",
        "F = np.roll(faces.repeat(2,axis=1),-1,axis=1)\n",
        "F = F.reshape(len(F)*3,2)\n",
        "F = np.sort(F,axis=1)\n",
        "G = F.view( dtype=[('p0',F.dtype),('p1',F.dtype)] )\n",
        "G = np.unique(G)\n",
        "print(G)"
      ]
    },
    {
      "cell_type": "markdown",
      "metadata": {
        "id": "zF2MP5e2V-Kh"
      },
      "source": [
        "#### 74. Given an array C that is a bincount, how to produce an array A such that np.bincount(A) == C? (★★★) \n",
        "(**hint**: np.repeat)"
      ]
    },
    {
      "cell_type": "code",
      "execution_count": null,
      "metadata": {
        "id": "Avvww5npV-Kh",
        "colab": {
          "base_uri": "https://localhost:8080/"
        },
        "outputId": "6a121045-edb4-4b38-80b6-31f1481ea62e"
      },
      "outputs": [
        {
          "output_type": "stream",
          "name": "stdout",
          "text": [
            "[1 1 2 3 4 4 6]\n"
          ]
        }
      ],
      "source": [
        "C = np.bincount([1,1,2,3,4,4,6])\n",
        "A = np.repeat(np.arange(len(C)), C)\n",
        "print(A)"
      ]
    },
    {
      "cell_type": "markdown",
      "metadata": {
        "id": "m1zODXhWV-Kh"
      },
      "source": [
        "#### 75. How to compute averages using a sliding window over an array? (★★★) \n",
        "(**hint**: np.cumsum)"
      ]
    },
    {
      "cell_type": "code",
      "execution_count": null,
      "metadata": {
        "id": "VBrfFJG1V-Ki",
        "colab": {
          "base_uri": "https://localhost:8080/"
        },
        "outputId": "4791d534-8278-4c21-d1db-caf11ba1b2ee"
      },
      "outputs": [
        {
          "output_type": "stream",
          "name": "stdout",
          "text": [
            "[ 1.  2.  3.  4.  5.  6.  7.  8.  9. 10. 11. 12. 13. 14. 15. 16. 17. 18.]\n"
          ]
        }
      ],
      "source": [
        "def moving_average(a, n=3) :\n",
        "    ret = np.cumsum(a, dtype=float)\n",
        "    ret[n:] = ret[n:] - ret[:-n]\n",
        "    return ret[n - 1:] / n\n",
        "Z = np.arange(20)\n",
        "print(moving_average(Z, n=3))"
      ]
    },
    {
      "cell_type": "markdown",
      "metadata": {
        "id": "Lmjwzw7SV-Ki"
      },
      "source": [
        "#### 76. Consider a one-dimensional array Z, build a two-dimensional array whose first row is (Z\\[0\\],Z\\[1\\],Z\\[2\\]) and each subsequent row is  shifted by 1 (last row should be (Z\\[-3\\],Z\\[-2\\],Z\\[-1\\]) (★★★) \n",
        "(**hint**: from numpy.lib import stride_tricks)"
      ]
    },
    {
      "cell_type": "code",
      "execution_count": null,
      "metadata": {
        "id": "v-DpIMr1V-Ki",
        "colab": {
          "base_uri": "https://localhost:8080/"
        },
        "outputId": "9dd67321-11b5-4f9c-921a-b52d3b4033e3"
      },
      "outputs": [
        {
          "output_type": "stream",
          "name": "stdout",
          "text": [
            "[[0 1 2]\n",
            " [1 2 3]\n",
            " [2 3 4]\n",
            " [3 4 5]\n",
            " [4 5 6]\n",
            " [5 6 7]\n",
            " [6 7 8]\n",
            " [7 8 9]]\n"
          ]
        }
      ],
      "source": [
        "from numpy.lib import stride_tricks\n",
        "def rolling(a, window):\n",
        "    shape = (a.size - window + 1, window)\n",
        "    strides = (a.itemsize, a.itemsize)\n",
        "    return stride_tricks.as_strided(a, shape=shape, strides=strides)\n",
        "Z = rolling(np.arange(10), 3)\n",
        "print(Z)"
      ]
    },
    {
      "cell_type": "markdown",
      "metadata": {
        "id": "YQcH8CRtV-Ki"
      },
      "source": [
        "#### 77. How to negate a boolean, or to change the sign of a float inplace? (★★★) \n",
        "(**hint**: np.logical_not, np.negative)"
      ]
    },
    {
      "cell_type": "code",
      "execution_count": null,
      "metadata": {
        "id": "kLG-WmZRV-Ki",
        "colab": {
          "base_uri": "https://localhost:8080/"
        },
        "outputId": "1783302e-ce92-44d5-caef-64df2ede74f0"
      },
      "outputs": [
        {
          "output_type": "execute_result",
          "data": {
            "text/plain": [
              "array([-0.77940693, -0.20995522, -0.07524708,  0.08873006,  0.58720346,\n",
              "        0.64144605, -0.92930528,  0.64120055, -0.62865287, -0.43640894,\n",
              "        0.74669741, -0.03440244,  0.70980066,  0.00380509,  0.88340169,\n",
              "       -0.77420643,  0.96018655, -0.72822043,  0.65843918, -0.79198721,\n",
              "       -0.58059901, -0.79914998, -0.52358605, -0.64224572,  0.9657807 ,\n",
              "       -0.6586821 ,  0.67363735, -0.38425758,  0.81061817,  0.29644465,\n",
              "       -0.50914453,  0.53044185, -0.30613634, -0.81331676,  0.65533003,\n",
              "        0.64047919, -0.02443892,  0.92736134, -0.06775375, -0.12686699,\n",
              "        0.65844706,  0.93062741, -0.60026084, -0.26295073, -0.33135975,\n",
              "        0.34934007,  0.85107692,  0.06077877,  0.33240732, -0.035627  ,\n",
              "       -0.23259822, -0.54232655, -0.74864456, -0.83021258,  0.14260838,\n",
              "       -0.1754171 , -0.08284654,  0.97265955,  0.26769667,  0.11023787,\n",
              "        0.62144554,  0.13314581, -0.87192373, -0.61770227,  0.13791654,\n",
              "       -0.70145994, -0.95024577, -0.33780867, -0.62725131,  0.06091623,\n",
              "       -0.5832515 ,  0.62438048,  0.96882389,  0.38064745, -0.9738858 ,\n",
              "       -0.92573792, -0.14014566, -0.88714259,  0.45383634,  0.06547751,\n",
              "        0.05289954, -0.3860531 , -0.87660986,  0.01622311,  0.67403507,\n",
              "        0.19390104,  0.54506124, -0.251764  , -0.00551054,  0.35610981,\n",
              "       -0.66382928,  0.74118825, -0.00456704,  0.5943638 ,  0.83873309,\n",
              "       -0.84824674,  0.30706433, -0.18844862, -0.51838331,  0.46150962])"
            ]
          },
          "metadata": {},
          "execution_count": 64
        }
      ],
      "source": [
        "Z = np.random.randint(0,2,100)\n",
        "np.logical_not(Z, out=Z)\n",
        "Z = np.random.uniform(-1.0,1.0,100)\n",
        "np.negative(Z, out=Z)"
      ]
    },
    {
      "cell_type": "markdown",
      "metadata": {
        "id": "HfC-KsYYV-Kj"
      },
      "source": [
        "#### 78. Consider 2 sets of points P0,P1 describing lines (2d) and a point p, how to compute distance from p to each line i  (P0\\[i\\],P1\\[i\\])? (★★★)"
      ]
    },
    {
      "cell_type": "code",
      "execution_count": null,
      "metadata": {
        "id": "iD8kbqYOV-Kj",
        "colab": {
          "base_uri": "https://localhost:8080/"
        },
        "outputId": "76047cee-5301-4561-ba46-f7e720b2ae2e"
      },
      "outputs": [
        {
          "output_type": "stream",
          "name": "stdout",
          "text": [
            "[10.88772108  7.61619047  3.61559565  1.63944796  2.12017299  7.44459972\n",
            " 10.03012662  4.45295484 11.06626492 13.52345102]\n"
          ]
        }
      ],
      "source": [
        "def distance(P0, P1, p):\n",
        "    T = P1 - P0\n",
        "    L = (T**2).sum(axis=1)\n",
        "    U = -((P0[:,0]-p[...,0])*T[:,0] + (P0[:,1]-p[...,1])*T[:,1]) / L\n",
        "    U = U.reshape(len(U),1)\n",
        "    D = P0 + U*T - p\n",
        "    return np.sqrt((D**2).sum(axis=1))\n",
        "P0 = np.random.uniform(-10,10,(10,2))\n",
        "P1 = np.random.uniform(-10,10,(10,2))\n",
        "p  = np.random.uniform(-10,10,( 1,2))\n",
        "print(distance(P0, P1, p))"
      ]
    },
    {
      "cell_type": "markdown",
      "metadata": {
        "id": "WUdUpZvxV-Kj"
      },
      "source": [
        "#### 79. Consider 2 sets of points P0,P1 describing lines (2d) and a set of points P, how to compute distance from each point j (P\\[j\\]) to each line i (P0\\[i\\],P1\\[i\\])? (★★★)"
      ]
    },
    {
      "cell_type": "code",
      "execution_count": null,
      "metadata": {
        "id": "Mawc8CbJV-Kk",
        "colab": {
          "base_uri": "https://localhost:8080/"
        },
        "outputId": "b215522e-20b6-49a1-886f-26e0eda4cdf1"
      },
      "outputs": [
        {
          "output_type": "stream",
          "name": "stdout",
          "text": [
            "[[11.29904219  2.29225277  4.80037862  1.24779858  6.6294259   0.20510413\n",
            "   5.78761415 15.5452445  10.36134696  6.05624882]\n",
            " [ 7.07450736  2.52372881  2.20355053  1.38154955  4.4664488   0.11544769\n",
            "   5.96468624 11.26178531  9.16803148  8.05692792]\n",
            " [ 1.79754438  4.42422219  0.49781306  5.73395436  0.53877153  1.14202462\n",
            "   4.53753522  6.54886617  6.21157459  8.92965086]\n",
            " [ 0.06603338  2.43712893  7.20620239  2.20096283  4.9442568   6.14645496\n",
            "  11.72600046  2.04047026 12.05060493 16.77073597]\n",
            " [ 8.26682503  0.27658152  0.85394676  0.80668635  6.73676037  2.26979495\n",
            "   8.14660438 11.6073403  11.48964439  9.69441674]\n",
            " [10.51502458  0.52671791  2.5922514   1.95852114  7.60383744  1.71510203\n",
            "   7.67047948 14.03463008 11.78508471  8.25289931]\n",
            " [ 3.33991118  0.56427716  6.61315743  6.18649814  1.05902374  3.50883005\n",
            "   8.98937177  0.29910845  8.52788788 15.54272213]\n",
            " [ 1.72620188 14.55448302 10.11946682 12.49024395  7.20148887 11.55537252\n",
            "   5.81825072 10.48375137  3.02060109  1.25730341]\n",
            " [ 1.91725656 11.13435845  6.98242358 10.11136441  4.50973506  8.06175586\n",
            "   2.3383428   9.3281941   0.13515809  2.09365383]\n",
            " [ 6.37644071  6.74866036  2.7355903  12.06524733  5.07395104  2.45254058\n",
            "   2.96051872  0.99653461  2.19552685 10.90668238]]\n"
          ]
        }
      ],
      "source": [
        "P0 = np.random.uniform(-10, 10, (10,2))\n",
        "P1 = np.random.uniform(-10,10,(10,2))\n",
        "p = np.random.uniform(-10, 10, (10,2))\n",
        "print(np.array([distance(P0,P1,p_i) for p_i in p]))"
      ]
    },
    {
      "cell_type": "markdown",
      "metadata": {
        "id": "AXYxDcJFV-Kk"
      },
      "source": [
        "#### 80. Consider an arbitrary array, write a function that extract a subpart with a fixed shape and centered on a given element (pad with a `fill` value when necessary) (★★★) \n",
        "(**hint**: minimum, maximum)"
      ]
    },
    {
      "cell_type": "code",
      "execution_count": null,
      "metadata": {
        "id": "Yqt8X_BWV-Kk",
        "colab": {
          "base_uri": "https://localhost:8080/"
        },
        "outputId": "d0d6d3a6-eb83-4bd7-bffa-7b1bd89c3c5a"
      },
      "outputs": [
        {
          "output_type": "stream",
          "name": "stdout",
          "text": [
            "[[4 4 0 7 4 6 6 2 7 9]\n",
            " [9 3 0 7 3 5 3 3 5 0]\n",
            " [4 1 9 5 6 4 8 0 4 0]\n",
            " [0 3 7 1 8 2 3 2 5 6]\n",
            " [8 7 3 0 6 8 0 8 3 8]\n",
            " [0 8 3 0 6 9 4 4 0 5]\n",
            " [5 0 4 0 7 6 0 5 8 6]\n",
            " [7 0 7 3 0 3 5 9 8 8]\n",
            " [4 8 4 1 4 5 9 3 2 1]\n",
            " [3 7 6 8 3 8 2 1 5 2]]\n",
            "[[0 0 0 0 0]\n",
            " [0 4 4 0 7]\n",
            " [0 9 3 0 7]\n",
            " [0 4 1 9 5]\n",
            " [0 0 3 7 1]]\n"
          ]
        },
        {
          "output_type": "stream",
          "name": "stderr",
          "text": [
            "/usr/local/lib/python3.7/dist-packages/ipykernel_launcher.py:19: FutureWarning: Using a non-tuple sequence for multidimensional indexing is deprecated; use `arr[tuple(seq)]` instead of `arr[seq]`. In the future this will be interpreted as an array index, `arr[np.array(seq)]`, which will result either in an error or a different result.\n"
          ]
        }
      ],
      "source": [
        "Z = np.random.randint(0,10,(10,10))\n",
        "shape = (5,5)\n",
        "fill  = 0\n",
        "position = (1,1)\n",
        "R = np.ones(shape, dtype=Z.dtype)*fill\n",
        "P  = np.array(list(position)).astype(int)\n",
        "Rs = np.array(list(R.shape)).astype(int)\n",
        "Zs = np.array(list(Z.shape)).astype(int)\n",
        "R_start = np.zeros((len(shape),)).astype(int)\n",
        "R_stop  = np.array(list(shape)).astype(int)\n",
        "Z_start = (P-Rs//2)\n",
        "Z_stop  = (P+Rs//2)+Rs%2\n",
        "R_start = (R_start - np.minimum(Z_start,0)).tolist()\n",
        "Z_start = (np.maximum(Z_start,0)).tolist()\n",
        "R_stop = np.maximum(R_start, (R_stop - np.maximum(Z_stop-Zs,0))).tolist()\n",
        "Z_stop = (np.minimum(Z_stop,Zs)).tolist()\n",
        "r = [slice(start,stop) for start,stop in zip(R_start,R_stop)]\n",
        "z = [slice(start,stop) for start,stop in zip(Z_start,Z_stop)]\n",
        "R[r] = Z[z]\n",
        "print(Z)\n",
        "print(R)"
      ]
    },
    {
      "cell_type": "markdown",
      "metadata": {
        "id": "0mnwjuPBV-Kl"
      },
      "source": [
        "#### 81. Consider an array Z = \\[1,2,3,4,5,6,7,8,9,10,11,12,13,14\\], how to generate an array R = \\[\\[1,2,3,4\\], \\[2,3,4,5\\], \\[3,4,5,6\\], ..., \\[11,12,13,14\\]\\]? (★★★) \n",
        "(**hint**: stride\\_tricks.as\\_strided)"
      ]
    },
    {
      "cell_type": "code",
      "execution_count": null,
      "metadata": {
        "id": "Gf6ssvpDV-Kl",
        "colab": {
          "base_uri": "https://localhost:8080/"
        },
        "outputId": "9b79dc3c-bfa4-4076-f74c-b85a27021f74"
      },
      "outputs": [
        {
          "output_type": "stream",
          "name": "stdout",
          "text": [
            "[[ 1  2  3  4]\n",
            " [ 2  3  4  5]\n",
            " [ 3  4  5  6]\n",
            " [ 4  5  6  7]\n",
            " [ 5  6  7  8]\n",
            " [ 6  7  8  9]\n",
            " [ 7  8  9 10]\n",
            " [ 8  9 10 11]\n",
            " [ 9 10 11 12]\n",
            " [10 11 12 13]\n",
            " [11 12 13 14]]\n"
          ]
        }
      ],
      "source": [
        "Z = np.arange(1,15,dtype=np.uint32)\n",
        "R = stride_tricks.as_strided(Z,(11,4),(4,4))\n",
        "print(R)"
      ]
    },
    {
      "cell_type": "markdown",
      "metadata": {
        "id": "xfQ2Ae7QV-Kl"
      },
      "source": [
        "#### 82. Compute a matrix rank (★★★) \n",
        "(**hint**: np.linalg.svd) (suggestion: np.linalg.svd)"
      ]
    },
    {
      "cell_type": "code",
      "execution_count": null,
      "metadata": {
        "id": "Fa2mI7Y7V-Km",
        "colab": {
          "base_uri": "https://localhost:8080/"
        },
        "outputId": "8013e0a6-b79a-44f8-d2e9-ae31843dc18b"
      },
      "outputs": [
        {
          "output_type": "stream",
          "name": "stdout",
          "text": [
            "10\n"
          ]
        }
      ],
      "source": [
        "Z = np.random.uniform(0,1,(10,10))\n",
        "U, S, V = np.linalg.svd(Z) # Singular Value Decomposition\n",
        "rank = np.sum(S > 1e-10)\n",
        "print(rank)"
      ]
    },
    {
      "cell_type": "markdown",
      "metadata": {
        "id": "o92AuTdiV-Km"
      },
      "source": [
        "#### 83. How to find the most frequent value in an array? \n",
        "(**hint**: np.bincount, argmax)"
      ]
    },
    {
      "cell_type": "code",
      "execution_count": null,
      "metadata": {
        "id": "uKk3_y7mV-Kn",
        "colab": {
          "base_uri": "https://localhost:8080/"
        },
        "outputId": "bbef0870-b09e-4a49-d945-16f46a408f56"
      },
      "outputs": [
        {
          "output_type": "stream",
          "name": "stdout",
          "text": [
            "6\n"
          ]
        }
      ],
      "source": [
        "Z = np.random.randint(0,10,50)\n",
        "print(np.bincount(Z).argmax())"
      ]
    },
    {
      "cell_type": "markdown",
      "metadata": {
        "id": "rrYDMVq_V-Kn"
      },
      "source": [
        "#### 84. Extract all the contiguous 3x3 blocks from a random 10x10 matrix (★★★) \n",
        "(**hint**: stride\\_tricks.as\\_strided)"
      ]
    },
    {
      "cell_type": "code",
      "execution_count": null,
      "metadata": {
        "id": "eOCEqFxYV-Kn",
        "colab": {
          "base_uri": "https://localhost:8080/"
        },
        "outputId": "99d7eb11-ef07-480d-c48a-7798b654fb54"
      },
      "outputs": [
        {
          "output_type": "stream",
          "name": "stdout",
          "text": [
            "[[[[0 3 2]\n",
            "   [2 1 2]\n",
            "   [0 0 1]]\n",
            "\n",
            "  [[3 2 1]\n",
            "   [1 2 4]\n",
            "   [0 1 2]]\n",
            "\n",
            "  [[2 1 4]\n",
            "   [2 4 3]\n",
            "   [1 2 1]]\n",
            "\n",
            "  [[1 4 2]\n",
            "   [4 3 3]\n",
            "   [2 1 2]]\n",
            "\n",
            "  [[4 2 2]\n",
            "   [3 3 1]\n",
            "   [1 2 3]]\n",
            "\n",
            "  [[2 2 3]\n",
            "   [3 1 3]\n",
            "   [2 3 3]]\n",
            "\n",
            "  [[2 3 0]\n",
            "   [1 3 1]\n",
            "   [3 3 2]]\n",
            "\n",
            "  [[3 0 2]\n",
            "   [3 1 3]\n",
            "   [3 2 1]]]\n",
            "\n",
            "\n",
            " [[[2 1 2]\n",
            "   [0 0 1]\n",
            "   [1 1 3]]\n",
            "\n",
            "  [[1 2 4]\n",
            "   [0 1 2]\n",
            "   [1 3 4]]\n",
            "\n",
            "  [[2 4 3]\n",
            "   [1 2 1]\n",
            "   [3 4 4]]\n",
            "\n",
            "  [[4 3 3]\n",
            "   [2 1 2]\n",
            "   [4 4 0]]\n",
            "\n",
            "  [[3 3 1]\n",
            "   [1 2 3]\n",
            "   [4 0 4]]\n",
            "\n",
            "  [[3 1 3]\n",
            "   [2 3 3]\n",
            "   [0 4 0]]\n",
            "\n",
            "  [[1 3 1]\n",
            "   [3 3 2]\n",
            "   [4 0 4]]\n",
            "\n",
            "  [[3 1 3]\n",
            "   [3 2 1]\n",
            "   [0 4 2]]]\n",
            "\n",
            "\n",
            " [[[0 0 1]\n",
            "   [1 1 3]\n",
            "   [1 4 2]]\n",
            "\n",
            "  [[0 1 2]\n",
            "   [1 3 4]\n",
            "   [4 2 4]]\n",
            "\n",
            "  [[1 2 1]\n",
            "   [3 4 4]\n",
            "   [2 4 0]]\n",
            "\n",
            "  [[2 1 2]\n",
            "   [4 4 0]\n",
            "   [4 0 1]]\n",
            "\n",
            "  [[1 2 3]\n",
            "   [4 0 4]\n",
            "   [0 1 0]]\n",
            "\n",
            "  [[2 3 3]\n",
            "   [0 4 0]\n",
            "   [1 0 3]]\n",
            "\n",
            "  [[3 3 2]\n",
            "   [4 0 4]\n",
            "   [0 3 4]]\n",
            "\n",
            "  [[3 2 1]\n",
            "   [0 4 2]\n",
            "   [3 4 3]]]\n",
            "\n",
            "\n",
            " [[[1 1 3]\n",
            "   [1 4 2]\n",
            "   [1 4 4]]\n",
            "\n",
            "  [[1 3 4]\n",
            "   [4 2 4]\n",
            "   [4 4 2]]\n",
            "\n",
            "  [[3 4 4]\n",
            "   [2 4 0]\n",
            "   [4 2 1]]\n",
            "\n",
            "  [[4 4 0]\n",
            "   [4 0 1]\n",
            "   [2 1 3]]\n",
            "\n",
            "  [[4 0 4]\n",
            "   [0 1 0]\n",
            "   [1 3 3]]\n",
            "\n",
            "  [[0 4 0]\n",
            "   [1 0 3]\n",
            "   [3 3 3]]\n",
            "\n",
            "  [[4 0 4]\n",
            "   [0 3 4]\n",
            "   [3 3 3]]\n",
            "\n",
            "  [[0 4 2]\n",
            "   [3 4 3]\n",
            "   [3 3 0]]]\n",
            "\n",
            "\n",
            " [[[1 4 2]\n",
            "   [1 4 4]\n",
            "   [0 3 4]]\n",
            "\n",
            "  [[4 2 4]\n",
            "   [4 4 2]\n",
            "   [3 4 3]]\n",
            "\n",
            "  [[2 4 0]\n",
            "   [4 2 1]\n",
            "   [4 3 2]]\n",
            "\n",
            "  [[4 0 1]\n",
            "   [2 1 3]\n",
            "   [3 2 3]]\n",
            "\n",
            "  [[0 1 0]\n",
            "   [1 3 3]\n",
            "   [2 3 4]]\n",
            "\n",
            "  [[1 0 3]\n",
            "   [3 3 3]\n",
            "   [3 4 3]]\n",
            "\n",
            "  [[0 3 4]\n",
            "   [3 3 3]\n",
            "   [4 3 0]]\n",
            "\n",
            "  [[3 4 3]\n",
            "   [3 3 0]\n",
            "   [3 0 4]]]\n",
            "\n",
            "\n",
            " [[[1 4 4]\n",
            "   [0 3 4]\n",
            "   [4 4 3]]\n",
            "\n",
            "  [[4 4 2]\n",
            "   [3 4 3]\n",
            "   [4 3 4]]\n",
            "\n",
            "  [[4 2 1]\n",
            "   [4 3 2]\n",
            "   [3 4 2]]\n",
            "\n",
            "  [[2 1 3]\n",
            "   [3 2 3]\n",
            "   [4 2 1]]\n",
            "\n",
            "  [[1 3 3]\n",
            "   [2 3 4]\n",
            "   [2 1 4]]\n",
            "\n",
            "  [[3 3 3]\n",
            "   [3 4 3]\n",
            "   [1 4 1]]\n",
            "\n",
            "  [[3 3 3]\n",
            "   [4 3 0]\n",
            "   [4 1 0]]\n",
            "\n",
            "  [[3 3 0]\n",
            "   [3 0 4]\n",
            "   [1 0 1]]]\n",
            "\n",
            "\n",
            " [[[0 3 4]\n",
            "   [4 4 3]\n",
            "   [1 3 3]]\n",
            "\n",
            "  [[3 4 3]\n",
            "   [4 3 4]\n",
            "   [3 3 1]]\n",
            "\n",
            "  [[4 3 2]\n",
            "   [3 4 2]\n",
            "   [3 1 2]]\n",
            "\n",
            "  [[3 2 3]\n",
            "   [4 2 1]\n",
            "   [1 2 0]]\n",
            "\n",
            "  [[2 3 4]\n",
            "   [2 1 4]\n",
            "   [2 0 2]]\n",
            "\n",
            "  [[3 4 3]\n",
            "   [1 4 1]\n",
            "   [0 2 4]]\n",
            "\n",
            "  [[4 3 0]\n",
            "   [4 1 0]\n",
            "   [2 4 3]]\n",
            "\n",
            "  [[3 0 4]\n",
            "   [1 0 1]\n",
            "   [4 3 2]]]\n",
            "\n",
            "\n",
            " [[[4 4 3]\n",
            "   [1 3 3]\n",
            "   [3 0 3]]\n",
            "\n",
            "  [[4 3 4]\n",
            "   [3 3 1]\n",
            "   [0 3 3]]\n",
            "\n",
            "  [[3 4 2]\n",
            "   [3 1 2]\n",
            "   [3 3 3]]\n",
            "\n",
            "  [[4 2 1]\n",
            "   [1 2 0]\n",
            "   [3 3 1]]\n",
            "\n",
            "  [[2 1 4]\n",
            "   [2 0 2]\n",
            "   [3 1 3]]\n",
            "\n",
            "  [[1 4 1]\n",
            "   [0 2 4]\n",
            "   [1 3 2]]\n",
            "\n",
            "  [[4 1 0]\n",
            "   [2 4 3]\n",
            "   [3 2 2]]\n",
            "\n",
            "  [[1 0 1]\n",
            "   [4 3 2]\n",
            "   [2 2 4]]]]\n"
          ]
        }
      ],
      "source": [
        "Z = np.random.randint(0,5,(10,10))\n",
        "n = 3\n",
        "i = 1 + (Z.shape[0]-3)\n",
        "j = 1 + (Z.shape[1]-3)\n",
        "C = stride_tricks.as_strided(Z, shape=(i, j, n, n), strides=Z.strides + Z.strides)\n",
        "print(C)"
      ]
    },
    {
      "cell_type": "markdown",
      "metadata": {
        "id": "68ebtNQiV-Ko"
      },
      "source": [
        "#### 85. Create a 2D array subclass such that Z\\[i,j\\] == Z\\[j,i\\] (★★★) \n",
        "(**hint**: class method)"
      ]
    },
    {
      "cell_type": "code",
      "execution_count": null,
      "metadata": {
        "id": "jScKI0esV-Ko",
        "colab": {
          "base_uri": "https://localhost:8080/"
        },
        "outputId": "a3c839a5-3700-4d78-e764-3cba3deec86c"
      },
      "outputs": [
        {
          "output_type": "stream",
          "name": "stdout",
          "text": [
            "[[ 4  9  4 11  8]\n",
            " [ 9  8  6 13 11]\n",
            " [ 4  6  9 42  8]\n",
            " [11 13 42  5 10]\n",
            " [ 8 11  8 10  2]]\n"
          ]
        }
      ],
      "source": [
        "class Symetric(np.ndarray):\n",
        "    def __setitem__(self, index, value):\n",
        "        i,j = index\n",
        "        super(Symetric, self).__setitem__((i,j), value)\n",
        "        super(Symetric, self).__setitem__((j,i), value)\n",
        "def symetric(Z):\n",
        "    return np.asarray(Z + Z.T - np.diag(Z.diagonal())).view(Symetric)\n",
        "S = symetric(np.random.randint(0,10,(5,5)))\n",
        "S[2,3] = 42\n",
        "print(S)"
      ]
    },
    {
      "cell_type": "markdown",
      "metadata": {
        "id": "wZylRuJ_V-Ko"
      },
      "source": [
        "#### 86. Consider a set of p matrices wich shape (n,n) and a set of p vectors with shape (n,1). How to compute the sum of of the p matrix products at once? (result has shape (n,1)) (★★★) \n",
        "(**hint**: np.tensordot)"
      ]
    },
    {
      "cell_type": "code",
      "execution_count": null,
      "metadata": {
        "id": "gDkuf_COV-Kp",
        "colab": {
          "base_uri": "https://localhost:8080/"
        },
        "outputId": "4955da51-fec3-4bdd-d944-fefdb654fb57"
      },
      "outputs": [
        {
          "output_type": "stream",
          "name": "stdout",
          "text": [
            "[[200.]\n",
            " [200.]\n",
            " [200.]\n",
            " [200.]\n",
            " [200.]\n",
            " [200.]\n",
            " [200.]\n",
            " [200.]\n",
            " [200.]\n",
            " [200.]\n",
            " [200.]\n",
            " [200.]\n",
            " [200.]\n",
            " [200.]\n",
            " [200.]\n",
            " [200.]\n",
            " [200.]\n",
            " [200.]\n",
            " [200.]\n",
            " [200.]]\n"
          ]
        }
      ],
      "source": [
        "p, n = 10, 20\n",
        "M = np.ones((p,n,n))\n",
        "V = np.ones((p,n,1))\n",
        "S = np.tensordot(M, V, axes=[[0, 2], [0, 1]])\n",
        "print(S)"
      ]
    },
    {
      "cell_type": "markdown",
      "metadata": {
        "id": "xqfhB6N4V-Kp"
      },
      "source": [
        "#### 87. Consider a 16x16 array, how to get the block-sum (block size is 4x4)? (★★★) \n",
        "(**hint**: np.add.reduceat)"
      ]
    },
    {
      "cell_type": "code",
      "execution_count": null,
      "metadata": {
        "id": "LkoW_h3pV-Kp",
        "colab": {
          "base_uri": "https://localhost:8080/"
        },
        "outputId": "48599318-20f8-480e-f845-014cec9a884c"
      },
      "outputs": [
        {
          "output_type": "stream",
          "name": "stdout",
          "text": [
            "[[16. 16. 16. 16.]\n",
            " [16. 16. 16. 16.]\n",
            " [16. 16. 16. 16.]\n",
            " [16. 16. 16. 16.]]\n"
          ]
        }
      ],
      "source": [
        "Z = np.ones((16,16))\n",
        "k = 4\n",
        "S = np.add.reduceat(np.add.reduceat(Z, np.arange(0, Z.shape[0], k), axis=0),\n",
        "                                       np.arange(0, Z.shape[1], k), axis=1)\n",
        "print(S)"
      ]
    },
    {
      "cell_type": "markdown",
      "metadata": {
        "id": "DEpB_DCTV-Kq"
      },
      "source": [
        "#### 88. How to implement the Game of Life using numpy arrays? (★★★)"
      ]
    },
    {
      "cell_type": "code",
      "execution_count": null,
      "metadata": {
        "id": "Y7ThxrUSV-Kq",
        "colab": {
          "base_uri": "https://localhost:8080/"
        },
        "outputId": "45946edd-6609-4bb0-e33c-98cec0f43f0a"
      },
      "outputs": [
        {
          "output_type": "stream",
          "name": "stdout",
          "text": [
            "[[0 0 0 ... 0 0 0]\n",
            " [0 0 0 ... 0 0 0]\n",
            " [0 0 0 ... 0 0 0]\n",
            " ...\n",
            " [0 0 0 ... 0 0 0]\n",
            " [0 0 0 ... 0 0 0]\n",
            " [0 0 0 ... 0 0 0]]\n"
          ]
        }
      ],
      "source": [
        "def iterate(Z):\n",
        "    N = (Z[0:-2,0:-2] + Z[0:-2,1:-1] + Z[0:-2,2:] +\n",
        "         Z[1:-1,0:-2]                + Z[1:-1,2:] +\n",
        "         Z[2:  ,0:-2] + Z[2:  ,1:-1] + Z[2:  ,2:])\n",
        "    birth = (N==3) & (Z[1:-1,1:-1]==0)\n",
        "    survive = ((N==2) | (N==3)) & (Z[1:-1,1:-1]==1)\n",
        "    Z[...] = 0\n",
        "    Z[1:-1,1:-1][birth | survive] = 1\n",
        "    return Z\n",
        "Z = np.random.randint(0,2,(50,50))\n",
        "for i in range(100): Z = iterate(Z)\n",
        "print(Z)"
      ]
    },
    {
      "cell_type": "markdown",
      "metadata": {
        "id": "PcdH5g9SV-Kq"
      },
      "source": [
        "#### 89. How to get the n largest values of an array (★★★) \n",
        "(**hint**: np.argsort | np.argpartition)"
      ]
    },
    {
      "cell_type": "code",
      "execution_count": null,
      "metadata": {
        "id": "XpyBTFFkV-Kr",
        "colab": {
          "base_uri": "https://localhost:8080/"
        },
        "outputId": "7130a3f4-1b06-4458-e848-193916192a36"
      },
      "outputs": [
        {
          "output_type": "stream",
          "name": "stdout",
          "text": [
            "[9995 9996 9997 9998 9999]\n",
            "[9998 9999 9997 9996 9995]\n"
          ]
        }
      ],
      "source": [
        "Z = np.arange(10000)\n",
        "np.random.shuffle(Z)\n",
        "n = 5\n",
        "# Slow\n",
        "print (Z[np.argsort(Z)[-n:]])\n",
        "# Fast\n",
        "print (Z[np.argpartition(-Z,n)[:n]])"
      ]
    },
    {
      "cell_type": "markdown",
      "metadata": {
        "id": "pLgWU76XV-Kr"
      },
      "source": [
        "#### 90. Given an arbitrary number of vectors, build the cartesian product (every combinations of every item) (★★★) \n",
        "(**hint**: np.indices)"
      ]
    },
    {
      "cell_type": "code",
      "execution_count": null,
      "metadata": {
        "scrolled": true,
        "id": "ZhzRkSQgV-Kr",
        "colab": {
          "base_uri": "https://localhost:8080/"
        },
        "outputId": "46165add-1060-454b-c45f-07d124a60009"
      },
      "outputs": [
        {
          "output_type": "stream",
          "name": "stdout",
          "text": [
            "[[1 4 6]\n",
            " [1 4 7]\n",
            " [1 5 6]\n",
            " [1 5 7]\n",
            " [2 4 6]\n",
            " [2 4 7]\n",
            " [2 5 6]\n",
            " [2 5 7]\n",
            " [3 4 6]\n",
            " [3 4 7]\n",
            " [3 5 6]\n",
            " [3 5 7]]\n"
          ]
        }
      ],
      "source": [
        "def cartesian(arrays):\n",
        "    arrays = [np.asarray(a) for a in arrays]\n",
        "    shape = (len(x) for x in arrays)\n",
        "    ix = np.indices(shape, dtype=int)\n",
        "    ix = ix.reshape(len(arrays), -1).T\n",
        "    for n, arr in enumerate(arrays):\n",
        "        ix[:, n] = arrays[n][ix[:, n]]\n",
        "    return ix\n",
        "print (cartesian(([1, 2, 3], [4, 5], [6, 7])))"
      ]
    },
    {
      "cell_type": "markdown",
      "metadata": {
        "id": "3a-5kww4V-Ks"
      },
      "source": [
        "#### 91. How to create a record array from a regular array? (★★★) \n",
        "(**hint**: np.core.records.fromarrays)"
      ]
    },
    {
      "cell_type": "code",
      "execution_count": null,
      "metadata": {
        "id": "Wj4iJoWxV-Ks",
        "colab": {
          "base_uri": "https://localhost:8080/"
        },
        "outputId": "ba867d29-61d1-4179-b8c2-c23b42975b07"
      },
      "outputs": [
        {
          "output_type": "stream",
          "name": "stdout",
          "text": [
            "[(b'Hello', 2.5, 3) (b'World', 3.6, 2)]\n"
          ]
        }
      ],
      "source": [
        "Z = np.array([(\"Hello\", 2.5, 3),\n",
        "              (\"World\", 3.6, 2)])\n",
        "R = np.core.records.fromarrays(Z.T,\n",
        "                               names='col1, col2, col3',\n",
        "                               formats = 'S8, f8, i8')\n",
        "print(R)"
      ]
    },
    {
      "cell_type": "markdown",
      "metadata": {
        "id": "00fPXj6XV-Ks"
      },
      "source": [
        "#### 92. Consider a large vector Z, compute Z to the power of 3 using 3 different methods (★★★) \n",
        "(**hint**: np.power, \\*, np.einsum)"
      ]
    },
    {
      "cell_type": "code",
      "execution_count": null,
      "metadata": {
        "id": "d7uXftEIV-Kt",
        "colab": {
          "base_uri": "https://localhost:8080/"
        },
        "outputId": "042387ac-05d1-40f2-a7bb-35a87c50faac"
      },
      "outputs": [
        {
          "output_type": "stream",
          "name": "stdout",
          "text": [
            "1 loop, best of 5: 3.72 s per loop\n",
            "10 loops, best of 5: 144 ms per loop\n",
            "10 loops, best of 5: 124 ms per loop\n"
          ]
        }
      ],
      "source": [
        "x = np.random.rand(int(5e7))\n",
        "%timeit np.power(x,3)\n",
        "%timeit x*x*x\n",
        "%timeit np.einsum('i,i,i->i',x,x,x)\n"
      ]
    },
    {
      "cell_type": "markdown",
      "metadata": {
        "id": "8aX8jhs3V-Kt"
      },
      "source": [
        "#### 93. Consider two arrays A and B of shape (8,3) and (2,2). How to find rows of A that contain elements of each row of B regardless of the order of the elements in B? (★★★) \n",
        "(**hint**: np.where)"
      ]
    },
    {
      "cell_type": "code",
      "execution_count": null,
      "metadata": {
        "id": "_1cE_1i1V-Kt",
        "colab": {
          "base_uri": "https://localhost:8080/"
        },
        "outputId": "1ea8e528-92e9-492c-f5fb-f7f5e5f81d31"
      },
      "outputs": [
        {
          "output_type": "stream",
          "name": "stdout",
          "text": [
            "[0 1 2 3 5]\n"
          ]
        }
      ],
      "source": [
        "A = np.random.randint(0,5,(8,3))\n",
        "B = np.random.randint(0,5,(2,2))\n",
        "C = (A[..., np.newaxis, np.newaxis] == B)\n",
        "rows = np.where(C.any((3,1)).all(1))[0]\n",
        "print(rows)"
      ]
    },
    {
      "cell_type": "markdown",
      "metadata": {
        "id": "iSVj_OjoV-Ku"
      },
      "source": [
        "#### 94. Considering a 10x3 matrix, extract rows with unequal values (e.g. \\[2,2,3\\]) (★★★)"
      ]
    },
    {
      "cell_type": "code",
      "execution_count": null,
      "metadata": {
        "id": "vEAQyfV0V-Ku",
        "colab": {
          "base_uri": "https://localhost:8080/"
        },
        "outputId": "a3b04e12-7115-4ee6-968e-5e9d5db04db3"
      },
      "outputs": [
        {
          "output_type": "stream",
          "name": "stdout",
          "text": [
            "[[2 0 1]\n",
            " [2 0 3]\n",
            " [1 0 0]\n",
            " [3 4 3]\n",
            " [3 1 4]\n",
            " [2 2 0]\n",
            " [4 1 3]\n",
            " [0 0 3]\n",
            " [4 4 2]\n",
            " [0 0 3]]\n",
            "[[2 0 1]\n",
            " [2 0 3]\n",
            " [1 0 0]\n",
            " [3 4 3]\n",
            " [3 1 4]\n",
            " [2 2 0]\n",
            " [4 1 3]\n",
            " [0 0 3]\n",
            " [4 4 2]\n",
            " [0 0 3]]\n",
            "[[2 0 1]\n",
            " [2 0 3]\n",
            " [1 0 0]\n",
            " [3 4 3]\n",
            " [3 1 4]\n",
            " [2 2 0]\n",
            " [4 1 3]\n",
            " [0 0 3]\n",
            " [4 4 2]\n",
            " [0 0 3]]\n"
          ]
        }
      ],
      "source": [
        "Z = np.random.randint(0,5,(10,3))\n",
        "print(Z)\n",
        "# solution for arrays of all dtypes (including string arrays and record arrays)\n",
        "E = np.all(Z[:,1:] == Z[:,:-1], axis=1)\n",
        "U = Z[~E]\n",
        "print(U)\n",
        "# soluiton for numerical arrays only, will work for any number of columns in Z\n",
        "U = Z[Z.max(axis=1) != Z.min(axis=1),:]\n",
        "print(U)"
      ]
    },
    {
      "cell_type": "markdown",
      "metadata": {
        "id": "LOiwywm-V-Kv"
      },
      "source": [
        "#### 95. Convert a vector of ints into a matrix binary representation (★★★) \n",
        "(**hint**: np.unpackbits)"
      ]
    },
    {
      "cell_type": "code",
      "execution_count": null,
      "metadata": {
        "id": "unhhFdGNV-Kv",
        "colab": {
          "base_uri": "https://localhost:8080/"
        },
        "outputId": "42e1d61b-b565-423b-fb73-48928d5d084a"
      },
      "outputs": [
        {
          "output_type": "stream",
          "name": "stdout",
          "text": [
            "[[0 0 0 0 0 0 0 0]\n",
            " [0 0 0 0 0 0 0 1]\n",
            " [0 0 0 0 0 0 1 0]\n",
            " [0 0 0 0 0 0 1 1]\n",
            " [0 0 0 0 1 1 1 1]\n",
            " [0 0 0 1 0 0 0 0]\n",
            " [0 0 1 0 0 0 0 0]\n",
            " [0 1 0 0 0 0 0 0]\n",
            " [1 0 0 0 0 0 0 0]]\n"
          ]
        }
      ],
      "source": [
        "I = np.array([0, 1, 2, 3, 15, 16, 32, 64, 128])\n",
        "B = ((I.reshape(-1,1) & (2**np.arange(8))) != 0).astype(int)\n",
        "print(B[:,::-1])"
      ]
    },
    {
      "cell_type": "markdown",
      "metadata": {
        "id": "05sAmVDYV-Kw"
      },
      "source": [
        "#### 96. Given a two dimensional array, how to extract unique rows? (★★★) \n",
        "(**hint**: np.ascontiguousarray)"
      ]
    },
    {
      "cell_type": "code",
      "execution_count": null,
      "metadata": {
        "id": "q8kcwKfkV-Kw",
        "colab": {
          "base_uri": "https://localhost:8080/"
        },
        "outputId": "5abb497e-3532-444b-a6aa-429c03a3e281"
      },
      "outputs": [
        {
          "output_type": "stream",
          "name": "stdout",
          "text": [
            "[[0 0 0]\n",
            " [0 0 1]\n",
            " [1 0 0]\n",
            " [1 1 1]]\n"
          ]
        }
      ],
      "source": [
        "Z = np.random.randint(0,2,(6,3))\n",
        "T = np.ascontiguousarray(Z).view(np.dtype((np.void, Z.dtype.itemsize * Z.shape[1])))\n",
        "_, idx = np.unique(T, return_index=True)\n",
        "uZ = Z[idx]\n",
        "print(uZ)"
      ]
    },
    {
      "cell_type": "markdown",
      "metadata": {
        "id": "4DIT9okrV-Kw"
      },
      "source": [
        "#### 97. Considering 2 vectors A & B, write the einsum equivalent of inner, outer, sum, and mul function (★★★) \n",
        "(**hint**: np.einsum)"
      ]
    },
    {
      "cell_type": "code",
      "execution_count": null,
      "metadata": {
        "id": "j1Ee4U7xV-Kw",
        "colab": {
          "base_uri": "https://localhost:8080/"
        },
        "outputId": "98a5f27a-e361-41c8-e4f9-438a45dff751"
      },
      "outputs": [
        {
          "output_type": "execute_result",
          "data": {
            "text/plain": [
              "array([[0.21730056, 0.33257398, 0.22887995, 0.23439292, 0.09032403,\n",
              "        0.27067354, 0.33523367, 0.02261909, 0.28894537, 0.36195155],\n",
              "       [0.13802892, 0.21125039, 0.14538413, 0.14888596, 0.05737366,\n",
              "        0.17193134, 0.21293982, 0.01436761, 0.18353757, 0.22991097],\n",
              "       [0.02889012, 0.04421573, 0.0304296 , 0.03116255, 0.01200858,\n",
              "        0.03598606, 0.04456933, 0.00300721, 0.0384153 , 0.04812148],\n",
              "       [0.36612495, 0.5603466 , 0.3856348 , 0.39492349, 0.15218497,\n",
              "        0.4560519 , 0.56482784, 0.03811041, 0.48683771, 0.60984422],\n",
              "       [0.45488659, 0.69619444, 0.47912632, 0.49066692, 0.18907999,\n",
              "        0.56661502, 0.70176209, 0.04734972, 0.60486439, 0.75769204],\n",
              "       [0.12797698, 0.19586611, 0.13479655, 0.13804336, 0.05319543,\n",
              "        0.15941046, 0.1974325 , 0.01332129, 0.17017147, 0.21316773],\n",
              "       [0.10861884, 0.16623887, 0.11440686, 0.11716255, 0.04514894,\n",
              "        0.1352976 , 0.16756832, 0.01130627, 0.14443088, 0.1809234 ],\n",
              "       [0.34437462, 0.52705818, 0.36272545, 0.37146233, 0.14314414,\n",
              "        0.4289593 , 0.5312732 , 0.03584639, 0.45791622, 0.5736153 ],\n",
              "       [0.14416784, 0.22064587, 0.15185017, 0.15550775, 0.05992538,\n",
              "        0.17957808, 0.22241043, 0.01500661, 0.19170051, 0.24013639],\n",
              "       [0.19160581, 0.2932487 , 0.20181599, 0.20667708, 0.07964364,\n",
              "        0.23866769, 0.29559389, 0.01994449, 0.25477896, 0.31915251]])"
            ]
          },
          "metadata": {},
          "execution_count": 84
        }
      ],
      "source": [
        "A = np.random.uniform(0,1,10)\n",
        "B = np.random.uniform(0,1,10)\n",
        "np.einsum('i->', A)       # np.sum(A)\n",
        "np.einsum('i,i->i', A, B) # A * B\n",
        "np.einsum('i,i', A, B)    # np.inner(A, B)\n",
        "np.einsum('i,j->ij', A, B)    # np.outer(A, B)"
      ]
    },
    {
      "cell_type": "markdown",
      "metadata": {
        "id": "mZF_JfwYV-Kx"
      },
      "source": [
        "#### 98. Considering a path described by two vectors (X,Y), how to sample it using equidistant samples (★★★)? \n",
        "(**hint**: np.cumsum, np.interp)"
      ]
    },
    {
      "cell_type": "code",
      "execution_count": null,
      "metadata": {
        "collapsed": true,
        "id": "4M92wClTV-Kx"
      },
      "outputs": [],
      "source": [
        "phi = np.arange(0, 10*np.pi, 0.1)\n",
        "a = 1\n",
        "x = a*phi*np.cos(phi)\n",
        "y = a*phi*np.sin(phi)\n",
        "dr = (np.diff(x)**2 + np.diff(y)**2)**.5 \n",
        "r = np.zeros_like(x)\n",
        "r[1:] = np.cumsum(dr)                \n",
        "r_int = np.linspace(0, r.max(), 200) \n",
        "x_int = np.interp(r_int, r, x)       \n",
        "y_int = np.interp(r_int, r, y)"
      ]
    },
    {
      "cell_type": "markdown",
      "metadata": {
        "id": "XT7NUphkV-Kx"
      },
      "source": [
        "#### 99. Given an integer n and a 2D array X, select from X the rows which can be interpreted as draws from a multinomial distribution with n degrees, i.e., the rows which only contain integers and which sum to n. (★★★) \n",
        "(**hint**: np.logical\\_and.reduce, np.mod)"
      ]
    },
    {
      "cell_type": "code",
      "execution_count": null,
      "metadata": {
        "id": "S__Z8sMCV-Kx",
        "colab": {
          "base_uri": "https://localhost:8080/"
        },
        "outputId": "3a86dfc2-352c-4ec4-d624-b1cb5f0802d4"
      },
      "outputs": [
        {
          "output_type": "stream",
          "name": "stdout",
          "text": [
            "[[2. 0. 1. 1.]]\n"
          ]
        }
      ],
      "source": [
        "X = np.asarray([[1.0, 0.0, 3.0, 8.0],\n",
        "                [2.0, 0.0, 1.0, 1.0],\n",
        "                [1.5, 2.5, 1.0, 0.0]])\n",
        "n = 4\n",
        "M = np.logical_and.reduce(np.mod(X, 1) == 0, axis=-1)\n",
        "M &= (X.sum(axis=-1) == n)\n",
        "print(X[M])"
      ]
    },
    {
      "cell_type": "markdown",
      "metadata": {
        "id": "cvbtXzJlV-Kx"
      },
      "source": [
        "#### 100. Compute bootstrapped 95% confidence intervals for the mean of a 1D array X (i.e., resample the elements of an array with replacement N times, compute the mean of each sample, and then compute percentiles over the means). (★★★) \n",
        "(**hint**: np.percentile)"
      ]
    },
    {
      "cell_type": "code",
      "execution_count": null,
      "metadata": {
        "id": "wohjICBsV-Kx",
        "colab": {
          "base_uri": "https://localhost:8080/"
        },
        "outputId": "81b88172-f855-4071-f761-db268eeb408d"
      },
      "outputs": [
        {
          "output_type": "stream",
          "name": "stdout",
          "text": [
            "[-0.01686464  0.36793108]\n"
          ]
        }
      ],
      "source": [
        "X = np.random.randn(100) # random 1D array\n",
        "N = 1000 # number of bootstrap samples\n",
        "idx = np.random.randint(0, X.size, (N, X.size))\n",
        "means = X[idx].mean(axis=1)\n",
        "confint = np.percentile(means, [2.5, 97.5])\n",
        "print(confint)"
      ]
    },
    {
      "cell_type": "code",
      "source": [
        ""
      ],
      "metadata": {
        "id": "nfjaX4legDON"
      },
      "execution_count": null,
      "outputs": []
    }
  ],
  "metadata": {
    "kernelspec": {
      "display_name": "Python 3",
      "language": "python",
      "name": "python3"
    },
    "language_info": {
      "codemirror_mode": {
        "name": "ipython",
        "version": 3
      },
      "file_extension": ".py",
      "mimetype": "text/x-python",
      "name": "python",
      "nbconvert_exporter": "python",
      "pygments_lexer": "ipython3",
      "version": "3.8.3"
    },
    "colab": {
      "name": "Copy of Numpy_tasks.ipynb",
      "provenance": [],
      "collapsed_sections": []
    }
  },
  "nbformat": 4,
  "nbformat_minor": 0
}